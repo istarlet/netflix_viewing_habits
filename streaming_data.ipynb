{
 "cells": [
  {
   "cell_type": "markdown",
   "metadata": {},
   "source": [
    "## Streaming Viewing Habits"
   ]
  },
  {
   "cell_type": "code",
   "execution_count": 158,
   "metadata": {},
   "outputs": [],
   "source": [
    "# Import Libraries\n",
    "import pandas as pd\n",
    "import numpy as np\n",
    "import seaborn as sns\n",
    "import matplotlib.pyplot as plt\n",
    "from datetime import datetime"
   ]
  },
  {
   "cell_type": "code",
   "execution_count": 159,
   "metadata": {},
   "outputs": [],
   "source": [
    "# Add cleaned dataframes from other notebooks\n",
    "%store -r hulu_cleaned\n",
    "%store -r netflix_cleaned\n",
    "%store -r prime_video_cleaned\n",
    "%store -r imdb_cleaned"
   ]
  },
  {
   "cell_type": "code",
   "execution_count": 160,
   "metadata": {},
   "outputs": [],
   "source": [
    "# Setup theme\n",
    "PALETTE = 'magma'\n",
    "sns.set_theme(style=\"white\")\n",
    "\n",
    "plt.rcParams[\"font.family\"] = \"monospace\""
   ]
  },
  {
   "cell_type": "code",
   "execution_count": 161,
   "metadata": {},
   "outputs": [
    {
     "data": {
      "text/html": [
       "<div>\n",
       "<style scoped>\n",
       "    .dataframe tbody tr th:only-of-type {\n",
       "        vertical-align: middle;\n",
       "    }\n",
       "\n",
       "    .dataframe tbody tr th {\n",
       "        vertical-align: top;\n",
       "    }\n",
       "\n",
       "    .dataframe thead th {\n",
       "        text-align: right;\n",
       "    }\n",
       "</style>\n",
       "<table border=\"1\" class=\"dataframe\">\n",
       "  <thead>\n",
       "    <tr style=\"text-align: right;\">\n",
       "      <th></th>\n",
       "      <th>Title</th>\n",
       "      <th>Date Watched</th>\n",
       "      <th>Streaming Service</th>\n",
       "    </tr>\n",
       "  </thead>\n",
       "  <tbody>\n",
       "    <tr>\n",
       "      <th>0</th>\n",
       "      <td>Only Murders in the Building</td>\n",
       "      <td>10/30/2022 22:18</td>\n",
       "      <td>Hulu</td>\n",
       "    </tr>\n",
       "    <tr>\n",
       "      <th>1</th>\n",
       "      <td>Only Murders in the Building</td>\n",
       "      <td>10/30/2022 21:39</td>\n",
       "      <td>Hulu</td>\n",
       "    </tr>\n",
       "    <tr>\n",
       "      <th>2</th>\n",
       "      <td>Only Murders in the Building</td>\n",
       "      <td>10/30/2022 21:03</td>\n",
       "      <td>Hulu</td>\n",
       "    </tr>\n",
       "    <tr>\n",
       "      <th>3</th>\n",
       "      <td>Only Murders in the Building</td>\n",
       "      <td>10/30/2022 5:48</td>\n",
       "      <td>Hulu</td>\n",
       "    </tr>\n",
       "    <tr>\n",
       "      <th>4</th>\n",
       "      <td>Only Murders in the Building</td>\n",
       "      <td>10/30/2022 5:12</td>\n",
       "      <td>Hulu</td>\n",
       "    </tr>\n",
       "    <tr>\n",
       "      <th>...</th>\n",
       "      <td>...</td>\n",
       "      <td>...</td>\n",
       "      <td>...</td>\n",
       "    </tr>\n",
       "    <tr>\n",
       "      <th>1860</th>\n",
       "      <td>Link into the VRAINS-Yu-Gi-Oh! VRAINS</td>\n",
       "      <td>10/10/2022 8:00:00</td>\n",
       "      <td>Prime Video</td>\n",
       "    </tr>\n",
       "    <tr>\n",
       "      <th>1861</th>\n",
       "      <td>Seize the Wind!-Yu-Gi-Oh! VRAINS</td>\n",
       "      <td>10/10/2022 9:00:00</td>\n",
       "      <td>Prime Video</td>\n",
       "    </tr>\n",
       "    <tr>\n",
       "      <th>1862</th>\n",
       "      <td>Contact-Yu-Gi-Oh! VRAINS</td>\n",
       "      <td>10/10/2022 9:00:00</td>\n",
       "      <td>Prime Video</td>\n",
       "    </tr>\n",
       "    <tr>\n",
       "      <th>1863</th>\n",
       "      <td>Pain and Gain-Yu-Gi-Oh! VRAINS</td>\n",
       "      <td>10/10/2022 9:00:00</td>\n",
       "      <td>Prime Video</td>\n",
       "    </tr>\n",
       "    <tr>\n",
       "      <th>1864</th>\n",
       "      <td>Down for the Count-Yu-Gi-Oh! VRAINS</td>\n",
       "      <td>10/10/2022 10:00:00</td>\n",
       "      <td>Prime Video</td>\n",
       "    </tr>\n",
       "  </tbody>\n",
       "</table>\n",
       "<p>27344 rows × 3 columns</p>\n",
       "</div>"
      ],
      "text/plain": [
       "                                      Title         Date Watched  \\\n",
       "0              Only Murders in the Building     10/30/2022 22:18   \n",
       "1              Only Murders in the Building     10/30/2022 21:39   \n",
       "2              Only Murders in the Building     10/30/2022 21:03   \n",
       "3              Only Murders in the Building      10/30/2022 5:48   \n",
       "4              Only Murders in the Building      10/30/2022 5:12   \n",
       "...                                     ...                  ...   \n",
       "1860  Link into the VRAINS-Yu-Gi-Oh! VRAINS   10/10/2022 8:00:00   \n",
       "1861       Seize the Wind!-Yu-Gi-Oh! VRAINS   10/10/2022 9:00:00   \n",
       "1862               Contact-Yu-Gi-Oh! VRAINS   10/10/2022 9:00:00   \n",
       "1863         Pain and Gain-Yu-Gi-Oh! VRAINS   10/10/2022 9:00:00   \n",
       "1864    Down for the Count-Yu-Gi-Oh! VRAINS  10/10/2022 10:00:00   \n",
       "\n",
       "     Streaming Service  \n",
       "0                 Hulu  \n",
       "1                 Hulu  \n",
       "2                 Hulu  \n",
       "3                 Hulu  \n",
       "4                 Hulu  \n",
       "...                ...  \n",
       "1860       Prime Video  \n",
       "1861       Prime Video  \n",
       "1862       Prime Video  \n",
       "1863       Prime Video  \n",
       "1864       Prime Video  \n",
       "\n",
       "[27344 rows x 3 columns]"
      ]
     },
     "execution_count": 161,
     "metadata": {},
     "output_type": "execute_result"
    }
   ],
   "source": [
    "streaming_list = [hulu_cleaned, netflix_cleaned, prime_video_cleaned]\n",
    "streaming_combined = pd.concat(streaming_list)\n",
    "\n",
    "streaming_combined.head(-5)"
   ]
  },
  {
   "cell_type": "code",
   "execution_count": 162,
   "metadata": {},
   "outputs": [
    {
     "data": {
      "text/plain": [
       "Them Idiots! Whirled Tour                                                     66\n",
       "Home Improvement                                                              52\n",
       "NullCompleteVideo                                                             44\n",
       "Larry the Cable Guy: Tailgate Party                                           34\n",
       "Top Gear: Series 22: Episode 5                                                32\n",
       "Rodney Carrington: Laughter’s Good                                            30\n",
       "Jeff Dunham: Relative Disaster                                                30\n",
       "White Collar: Season 1: Pilot (Episode 1)                                     30\n",
       "Sherlock: Series 1: A Study in Pink (Episode 1)                               30\n",
       "Yu-Gi-Oh!: Season 1: Best of Friends Best of Duelists: Part 1 (Episode 33)    25\n",
       "Name: Title, dtype: int64"
      ]
     },
     "execution_count": 162,
     "metadata": {},
     "output_type": "execute_result"
    }
   ],
   "source": [
    "top_titles = streaming_combined.Title.value_counts()\n",
    "\n",
    "top_titles.head(10)"
   ]
  },
  {
   "cell_type": "code",
   "execution_count": 163,
   "metadata": {},
   "outputs": [
    {
     "data": {
      "text/html": [
       "<div>\n",
       "<style scoped>\n",
       "    .dataframe tbody tr th:only-of-type {\n",
       "        vertical-align: middle;\n",
       "    }\n",
       "\n",
       "    .dataframe tbody tr th {\n",
       "        vertical-align: top;\n",
       "    }\n",
       "\n",
       "    .dataframe thead th {\n",
       "        text-align: right;\n",
       "    }\n",
       "</style>\n",
       "<table border=\"1\" class=\"dataframe\">\n",
       "  <thead>\n",
       "    <tr style=\"text-align: right;\">\n",
       "      <th></th>\n",
       "      <th>Title</th>\n",
       "      <th>Date Watched</th>\n",
       "      <th>Streaming Service</th>\n",
       "      <th>Release Year</th>\n",
       "      <th>Runtime</th>\n",
       "      <th>Genres</th>\n",
       "      <th>Imdb Score</th>\n",
       "    </tr>\n",
       "  </thead>\n",
       "  <tbody>\n",
       "    <tr>\n",
       "      <th>0</th>\n",
       "      <td>Dark Shadows</td>\n",
       "      <td>10/19/2022 19:51</td>\n",
       "      <td>Hulu</td>\n",
       "      <td>2012</td>\n",
       "      <td>113</td>\n",
       "      <td>['comedy', 'fantasy', 'horror']</td>\n",
       "      <td>6.2</td>\n",
       "    </tr>\n",
       "    <tr>\n",
       "      <th>1</th>\n",
       "      <td>Dark Shadows</td>\n",
       "      <td>10/27/2012 21:00:00</td>\n",
       "      <td>Prime Video</td>\n",
       "      <td>2012</td>\n",
       "      <td>113</td>\n",
       "      <td>['comedy', 'fantasy', 'horror']</td>\n",
       "      <td>6.2</td>\n",
       "    </tr>\n",
       "    <tr>\n",
       "      <th>2</th>\n",
       "      <td>Dark Shadows</td>\n",
       "      <td>11/04/2012 3:00:00</td>\n",
       "      <td>Prime Video</td>\n",
       "      <td>2012</td>\n",
       "      <td>113</td>\n",
       "      <td>['comedy', 'fantasy', 'horror']</td>\n",
       "      <td>6.2</td>\n",
       "    </tr>\n",
       "    <tr>\n",
       "      <th>3</th>\n",
       "      <td>Dark Shadows</td>\n",
       "      <td>11/04/2012 3:00:00</td>\n",
       "      <td>Prime Video</td>\n",
       "      <td>2012</td>\n",
       "      <td>113</td>\n",
       "      <td>['comedy', 'fantasy', 'horror']</td>\n",
       "      <td>6.2</td>\n",
       "    </tr>\n",
       "    <tr>\n",
       "      <th>4</th>\n",
       "      <td>Dark Shadows</td>\n",
       "      <td>11/04/2012 4:00:00</td>\n",
       "      <td>Prime Video</td>\n",
       "      <td>2012</td>\n",
       "      <td>113</td>\n",
       "      <td>['comedy', 'fantasy', 'horror']</td>\n",
       "      <td>6.2</td>\n",
       "    </tr>\n",
       "  </tbody>\n",
       "</table>\n",
       "</div>"
      ],
      "text/plain": [
       "          Title         Date Watched Streaming Service  Release Year  Runtime  \\\n",
       "0  Dark Shadows     10/19/2022 19:51              Hulu          2012      113   \n",
       "1  Dark Shadows  10/27/2012 21:00:00       Prime Video          2012      113   \n",
       "2  Dark Shadows   11/04/2012 3:00:00       Prime Video          2012      113   \n",
       "3  Dark Shadows   11/04/2012 3:00:00       Prime Video          2012      113   \n",
       "4  Dark Shadows   11/04/2012 4:00:00       Prime Video          2012      113   \n",
       "\n",
       "                            Genres  Imdb Score  \n",
       "0  ['comedy', 'fantasy', 'horror']         6.2  \n",
       "1  ['comedy', 'fantasy', 'horror']         6.2  \n",
       "2  ['comedy', 'fantasy', 'horror']         6.2  \n",
       "3  ['comedy', 'fantasy', 'horror']         6.2  \n",
       "4  ['comedy', 'fantasy', 'horror']         6.2  "
      ]
     },
     "execution_count": 163,
     "metadata": {},
     "output_type": "execute_result"
    }
   ],
   "source": [
    "data_combined = pd.merge(streaming_combined, imdb_cleaned, how=\"inner\", on=\"Title\")\n",
    "\n",
    "data_combined.head()"
   ]
  },
  {
   "cell_type": "code",
   "execution_count": 164,
   "metadata": {},
   "outputs": [
    {
     "name": "stdout",
     "output_type": "stream",
     "text": [
      "<class 'pandas.core.frame.DataFrame'>\n",
      "Int64Index: 554 entries, 0 to 553\n",
      "Data columns (total 7 columns):\n",
      " #   Column             Non-Null Count  Dtype  \n",
      "---  ------             --------------  -----  \n",
      " 0   Title              520 non-null    object \n",
      " 1   Date Watched       547 non-null    object \n",
      " 2   Streaming Service  554 non-null    object \n",
      " 3   Release Year       554 non-null    int64  \n",
      " 4   Runtime            554 non-null    int64  \n",
      " 5   Genres             554 non-null    object \n",
      " 6   Imdb Score         501 non-null    float64\n",
      "dtypes: float64(1), int64(2), object(4)\n",
      "memory usage: 34.6+ KB\n"
     ]
    }
   ],
   "source": [
    "data_combined.info()"
   ]
  },
  {
   "cell_type": "code",
   "execution_count": 165,
   "metadata": {},
   "outputs": [
    {
     "name": "stdout",
     "output_type": "stream",
     "text": [
      "<class 'pandas.core.frame.DataFrame'>\n",
      "Int64Index: 554 entries, 0 to 553\n",
      "Data columns (total 7 columns):\n",
      " #   Column             Non-Null Count  Dtype         \n",
      "---  ------             --------------  -----         \n",
      " 0   Title              520 non-null    object        \n",
      " 1   Date Watched       547 non-null    datetime64[ns]\n",
      " 2   Streaming Service  554 non-null    object        \n",
      " 3   Release Year       554 non-null    int64         \n",
      " 4   Runtime            554 non-null    int64         \n",
      " 5   Genres             554 non-null    object        \n",
      " 6   Imdb Score         501 non-null    float64       \n",
      "dtypes: datetime64[ns](1), float64(1), int64(2), object(3)\n",
      "memory usage: 34.6+ KB\n"
     ]
    }
   ],
   "source": [
    "# Convert \"Date Watched\" column from string to datetime \n",
    "data_combined[\"Date Watched\"] = data_combined[\"Date Watched\"].apply(pd.to_datetime)\n",
    "\n",
    "data_combined.info()"
   ]
  },
  {
   "cell_type": "code",
   "execution_count": 166,
   "metadata": {},
   "outputs": [
    {
     "data": {
      "text/html": [
       "<div>\n",
       "<style scoped>\n",
       "    .dataframe tbody tr th:only-of-type {\n",
       "        vertical-align: middle;\n",
       "    }\n",
       "\n",
       "    .dataframe tbody tr th {\n",
       "        vertical-align: top;\n",
       "    }\n",
       "\n",
       "    .dataframe thead th {\n",
       "        text-align: right;\n",
       "    }\n",
       "</style>\n",
       "<table border=\"1\" class=\"dataframe\">\n",
       "  <thead>\n",
       "    <tr style=\"text-align: right;\">\n",
       "      <th></th>\n",
       "      <th>Title</th>\n",
       "      <th>Date Watched</th>\n",
       "      <th>Streaming Service</th>\n",
       "      <th>Release Year</th>\n",
       "      <th>Runtime</th>\n",
       "      <th>Genres</th>\n",
       "      <th>Imdb Score</th>\n",
       "      <th>Month Watched</th>\n",
       "    </tr>\n",
       "  </thead>\n",
       "  <tbody>\n",
       "    <tr>\n",
       "      <th>0</th>\n",
       "      <td>Dark Shadows</td>\n",
       "      <td>2022-10-19 19:51:00</td>\n",
       "      <td>Hulu</td>\n",
       "      <td>2012</td>\n",
       "      <td>113</td>\n",
       "      <td>['comedy', 'fantasy', 'horror']</td>\n",
       "      <td>6.2</td>\n",
       "      <td>October</td>\n",
       "    </tr>\n",
       "    <tr>\n",
       "      <th>1</th>\n",
       "      <td>Dark Shadows</td>\n",
       "      <td>2012-10-27 21:00:00</td>\n",
       "      <td>Prime Video</td>\n",
       "      <td>2012</td>\n",
       "      <td>113</td>\n",
       "      <td>['comedy', 'fantasy', 'horror']</td>\n",
       "      <td>6.2</td>\n",
       "      <td>October</td>\n",
       "    </tr>\n",
       "    <tr>\n",
       "      <th>2</th>\n",
       "      <td>Dark Shadows</td>\n",
       "      <td>2012-11-04 03:00:00</td>\n",
       "      <td>Prime Video</td>\n",
       "      <td>2012</td>\n",
       "      <td>113</td>\n",
       "      <td>['comedy', 'fantasy', 'horror']</td>\n",
       "      <td>6.2</td>\n",
       "      <td>November</td>\n",
       "    </tr>\n",
       "    <tr>\n",
       "      <th>3</th>\n",
       "      <td>Dark Shadows</td>\n",
       "      <td>2012-11-04 03:00:00</td>\n",
       "      <td>Prime Video</td>\n",
       "      <td>2012</td>\n",
       "      <td>113</td>\n",
       "      <td>['comedy', 'fantasy', 'horror']</td>\n",
       "      <td>6.2</td>\n",
       "      <td>November</td>\n",
       "    </tr>\n",
       "    <tr>\n",
       "      <th>4</th>\n",
       "      <td>Dark Shadows</td>\n",
       "      <td>2012-11-04 04:00:00</td>\n",
       "      <td>Prime Video</td>\n",
       "      <td>2012</td>\n",
       "      <td>113</td>\n",
       "      <td>['comedy', 'fantasy', 'horror']</td>\n",
       "      <td>6.2</td>\n",
       "      <td>November</td>\n",
       "    </tr>\n",
       "  </tbody>\n",
       "</table>\n",
       "</div>"
      ],
      "text/plain": [
       "          Title        Date Watched Streaming Service  Release Year  Runtime  \\\n",
       "0  Dark Shadows 2022-10-19 19:51:00              Hulu          2012      113   \n",
       "1  Dark Shadows 2012-10-27 21:00:00       Prime Video          2012      113   \n",
       "2  Dark Shadows 2012-11-04 03:00:00       Prime Video          2012      113   \n",
       "3  Dark Shadows 2012-11-04 03:00:00       Prime Video          2012      113   \n",
       "4  Dark Shadows 2012-11-04 04:00:00       Prime Video          2012      113   \n",
       "\n",
       "                            Genres  Imdb Score Month Watched  \n",
       "0  ['comedy', 'fantasy', 'horror']         6.2       October  \n",
       "1  ['comedy', 'fantasy', 'horror']         6.2       October  \n",
       "2  ['comedy', 'fantasy', 'horror']         6.2      November  \n",
       "3  ['comedy', 'fantasy', 'horror']         6.2      November  \n",
       "4  ['comedy', 'fantasy', 'horror']         6.2      November  "
      ]
     },
     "execution_count": 166,
     "metadata": {},
     "output_type": "execute_result"
    }
   ],
   "source": [
    "# Add a new column \"Month Watched\" that gets the month the show or movie was watched from the \"Date Watched\" column\n",
    "data_combined[\"Month Watched\"] = data_combined[\"Date Watched\"].dt.month_name()\n",
    "\n",
    "data_combined.head()"
   ]
  },
  {
   "cell_type": "code",
   "execution_count": 167,
   "metadata": {},
   "outputs": [
    {
     "data": {
      "text/html": [
       "<div>\n",
       "<style scoped>\n",
       "    .dataframe tbody tr th:only-of-type {\n",
       "        vertical-align: middle;\n",
       "    }\n",
       "\n",
       "    .dataframe tbody tr th {\n",
       "        vertical-align: top;\n",
       "    }\n",
       "\n",
       "    .dataframe thead th {\n",
       "        text-align: right;\n",
       "    }\n",
       "</style>\n",
       "<table border=\"1\" class=\"dataframe\">\n",
       "  <thead>\n",
       "    <tr style=\"text-align: right;\">\n",
       "      <th></th>\n",
       "      <th>Title</th>\n",
       "      <th>Date Watched</th>\n",
       "      <th>Streaming Service</th>\n",
       "      <th>Release Year</th>\n",
       "      <th>Runtime</th>\n",
       "      <th>Genres</th>\n",
       "      <th>Imdb Score</th>\n",
       "      <th>Month Watched</th>\n",
       "      <th>Year Watched</th>\n",
       "    </tr>\n",
       "  </thead>\n",
       "  <tbody>\n",
       "    <tr>\n",
       "      <th>0</th>\n",
       "      <td>Dark Shadows</td>\n",
       "      <td>2022-10-19 19:51:00</td>\n",
       "      <td>Hulu</td>\n",
       "      <td>2012</td>\n",
       "      <td>113</td>\n",
       "      <td>['comedy', 'fantasy', 'horror']</td>\n",
       "      <td>6.2</td>\n",
       "      <td>October</td>\n",
       "      <td>2022.0</td>\n",
       "    </tr>\n",
       "    <tr>\n",
       "      <th>1</th>\n",
       "      <td>Dark Shadows</td>\n",
       "      <td>2012-10-27 21:00:00</td>\n",
       "      <td>Prime Video</td>\n",
       "      <td>2012</td>\n",
       "      <td>113</td>\n",
       "      <td>['comedy', 'fantasy', 'horror']</td>\n",
       "      <td>6.2</td>\n",
       "      <td>October</td>\n",
       "      <td>2012.0</td>\n",
       "    </tr>\n",
       "    <tr>\n",
       "      <th>2</th>\n",
       "      <td>Dark Shadows</td>\n",
       "      <td>2012-11-04 03:00:00</td>\n",
       "      <td>Prime Video</td>\n",
       "      <td>2012</td>\n",
       "      <td>113</td>\n",
       "      <td>['comedy', 'fantasy', 'horror']</td>\n",
       "      <td>6.2</td>\n",
       "      <td>November</td>\n",
       "      <td>2012.0</td>\n",
       "    </tr>\n",
       "    <tr>\n",
       "      <th>3</th>\n",
       "      <td>Dark Shadows</td>\n",
       "      <td>2012-11-04 03:00:00</td>\n",
       "      <td>Prime Video</td>\n",
       "      <td>2012</td>\n",
       "      <td>113</td>\n",
       "      <td>['comedy', 'fantasy', 'horror']</td>\n",
       "      <td>6.2</td>\n",
       "      <td>November</td>\n",
       "      <td>2012.0</td>\n",
       "    </tr>\n",
       "    <tr>\n",
       "      <th>4</th>\n",
       "      <td>Dark Shadows</td>\n",
       "      <td>2012-11-04 04:00:00</td>\n",
       "      <td>Prime Video</td>\n",
       "      <td>2012</td>\n",
       "      <td>113</td>\n",
       "      <td>['comedy', 'fantasy', 'horror']</td>\n",
       "      <td>6.2</td>\n",
       "      <td>November</td>\n",
       "      <td>2012.0</td>\n",
       "    </tr>\n",
       "  </tbody>\n",
       "</table>\n",
       "</div>"
      ],
      "text/plain": [
       "          Title        Date Watched Streaming Service  Release Year  Runtime  \\\n",
       "0  Dark Shadows 2022-10-19 19:51:00              Hulu          2012      113   \n",
       "1  Dark Shadows 2012-10-27 21:00:00       Prime Video          2012      113   \n",
       "2  Dark Shadows 2012-11-04 03:00:00       Prime Video          2012      113   \n",
       "3  Dark Shadows 2012-11-04 03:00:00       Prime Video          2012      113   \n",
       "4  Dark Shadows 2012-11-04 04:00:00       Prime Video          2012      113   \n",
       "\n",
       "                            Genres  Imdb Score Month Watched  Year Watched  \n",
       "0  ['comedy', 'fantasy', 'horror']         6.2       October        2022.0  \n",
       "1  ['comedy', 'fantasy', 'horror']         6.2       October        2012.0  \n",
       "2  ['comedy', 'fantasy', 'horror']         6.2      November        2012.0  \n",
       "3  ['comedy', 'fantasy', 'horror']         6.2      November        2012.0  \n",
       "4  ['comedy', 'fantasy', 'horror']         6.2      November        2012.0  "
      ]
     },
     "execution_count": 167,
     "metadata": {},
     "output_type": "execute_result"
    }
   ],
   "source": [
    "# efficient way to extract year from string format date\n",
    "data_combined['Year Watched'] = pd.DatetimeIndex(data_combined['Date Watched']).year\n",
    "data_combined.head()"
   ]
  },
  {
   "cell_type": "code",
   "execution_count": 168,
   "metadata": {},
   "outputs": [
    {
     "data": {
      "text/plain": [
       "Streaming Service\n",
       "Netflix              490\n",
       "Prime Video           44\n",
       "Hulu                  20\n",
       "dtype: int64"
      ]
     },
     "execution_count": 168,
     "metadata": {},
     "output_type": "execute_result"
    }
   ],
   "source": [
    "top_services = data_combined[[\"Streaming Service\"]].value_counts()\n",
    "\n",
    "top_services"
   ]
  },
  {
   "cell_type": "code",
   "execution_count": 169,
   "metadata": {},
   "outputs": [
    {
     "data": {
      "text/plain": [
       "['comedy']                     90\n",
       "['documentation']              37\n",
       "['romance', 'comedy']          35\n",
       "['comedy', 'documentation']    35\n",
       "[]                             34\n",
       "Name: Genres, dtype: int64"
      ]
     },
     "execution_count": 169,
     "metadata": {},
     "output_type": "execute_result"
    }
   ],
   "source": [
    "top_genres = data_combined.Genres.value_counts()\n",
    "\n",
    "top_genres.head()"
   ]
  },
  {
   "cell_type": "code",
   "execution_count": 170,
   "metadata": {},
   "outputs": [
    {
     "data": {
      "text/plain": [
       "{'comedy': 326,\n",
       " 'fantasy': 76,\n",
       " 'horror': 11,\n",
       " '': 33,\n",
       " 'drama': 182,\n",
       " 'romance': 147,\n",
       " 'scifi': 28,\n",
       " 'action': 38,\n",
       " 'family': 80,\n",
       " 'animation': 53,\n",
       " 'music': 34,\n",
       " 'reality': 0,\n",
       " 'history': 6,\n",
       " 'european': 6,\n",
       " 'crime': 56,\n",
       " 'documentation': 127,\n",
       " 'thriller': 39,\n",
       " 'sport': 22,\n",
       " 'western': 2}"
      ]
     },
     "execution_count": 170,
     "metadata": {},
     "output_type": "execute_result"
    }
   ],
   "source": [
    "# Following code from https://www.kaggle.com/code/advaypatil/netflix-movies-and-popularity\n",
    "\n",
    "# Parse genre column\n",
    "genres = {}\n",
    "\n",
    "def get_genres(row):\n",
    "  parsed = (str(row)[1:-1]).split(\",\")\n",
    "\n",
    "  for i in range(len(parsed)):\n",
    "    parsed[i] = parsed[i].strip()\n",
    "    parsed[i] = parsed[i][1:-1]\n",
    "\n",
    "  for i in parsed:\n",
    "    if i not in genres.keys():\n",
    "      genres[i] = 0\n",
    "      continue\n",
    "    genres[i] += 1\n",
    "\n",
    "  return row\n",
    "\n",
    "data_combined.Genres = data_combined.Genres.map(get_genres)\n",
    "genres"
   ]
  },
  {
   "cell_type": "code",
   "execution_count": 171,
   "metadata": {},
   "outputs": [],
   "source": [
    "# Following code from https://www.kaggle.com/code/advaypatil/netflix-movies-and-popularity\n",
    "\n",
    "def transform_genres(row):\n",
    "  parsed = (str(row)[1:-1]).split(\",\")\n",
    "\n",
    "  for i in range(len(parsed)):\n",
    "    parsed[i] = parsed[i].strip()[1:-1]\n",
    "\n",
    "  for i in parsed:\n",
    "    if i not in genres.keys():\n",
    "      genres[i] = 0\n",
    "      continue\n",
    "    genres[i] += 1\n",
    "\n",
    "  return parsed[0] if parsed[0] != '' else 'none'"
   ]
  },
  {
   "cell_type": "code",
   "execution_count": 172,
   "metadata": {},
   "outputs": [
    {
     "data": {
      "text/plain": [
       "comedy           204\n",
       "drama             71\n",
       "documentation     70\n",
       "romance           63\n",
       "none              34\n",
       "animation         28\n",
       "crime             25\n",
       "scifi             13\n",
       "family             9\n",
       "music              9\n",
       "fantasy            8\n",
       "action             7\n",
       "thriller           6\n",
       "western            3\n",
       "horror             3\n",
       "history            1\n",
       "Name: Genre, dtype: int64"
      ]
     },
     "execution_count": 172,
     "metadata": {},
     "output_type": "execute_result"
    }
   ],
   "source": [
    "# Following code from https://www.kaggle.com/code/advaypatil/netflix-movies-and-popularity\n",
    "\n",
    "# Perform the transformation\n",
    "data_combined[\"Genre\"] = data_combined.Genres.map(transform_genres)\n",
    "data_combined['Genre'].value_counts()"
   ]
  },
  {
   "cell_type": "code",
   "execution_count": 173,
   "metadata": {},
   "outputs": [
    {
     "data": {
      "text/plain": [
       "<AxesSubplot:xlabel='Genre', ylabel='Count'>"
      ]
     },
     "execution_count": 173,
     "metadata": {},
     "output_type": "execute_result"
    },
    {
     "data": {
      "image/png": "[encoded data removed]",
      "text/plain": [
       "<Figure size 2000x1000 with 1 Axes>"
      ]
     },
     "metadata": {},
     "output_type": "display_data"
    }
   ],
   "source": [
    "# Following code from https://www.kaggle.com/code/advaypatil/netflix-movies-and-popularity\n",
    "\n",
    "data_combined.Genre.replace(to_replace='documentation', value='doc', inplace=True)\n",
    "plt.figure(figsize=(20,10))\n",
    "sns.histplot(data_combined.Genre)"
   ]
  },
  {
   "cell_type": "code",
   "execution_count": 174,
   "metadata": {},
   "outputs": [
    {
     "data": {
      "text/html": [
       "<div>\n",
       "<style scoped>\n",
       "    .dataframe tbody tr th:only-of-type {\n",
       "        vertical-align: middle;\n",
       "    }\n",
       "\n",
       "    .dataframe tbody tr th {\n",
       "        vertical-align: top;\n",
       "    }\n",
       "\n",
       "    .dataframe thead th {\n",
       "        text-align: right;\n",
       "    }\n",
       "</style>\n",
       "<table border=\"1\" class=\"dataframe\">\n",
       "  <thead>\n",
       "    <tr style=\"text-align: right;\">\n",
       "      <th></th>\n",
       "      <th>Title</th>\n",
       "      <th>Date Watched</th>\n",
       "      <th>Streaming Service</th>\n",
       "      <th>Release Year</th>\n",
       "      <th>Runtime</th>\n",
       "      <th>Genres</th>\n",
       "      <th>Imdb Score</th>\n",
       "      <th>Month Watched</th>\n",
       "      <th>Year Watched</th>\n",
       "      <th>Genre</th>\n",
       "    </tr>\n",
       "  </thead>\n",
       "  <tbody>\n",
       "    <tr>\n",
       "      <th>0</th>\n",
       "      <td>Dark Shadows</td>\n",
       "      <td>2022-10-19 19:51:00</td>\n",
       "      <td>Hulu</td>\n",
       "      <td>2012</td>\n",
       "      <td>113</td>\n",
       "      <td>['comedy', 'fantasy', 'horror']</td>\n",
       "      <td>6.2</td>\n",
       "      <td>October</td>\n",
       "      <td>2022.0</td>\n",
       "      <td>comedy</td>\n",
       "    </tr>\n",
       "    <tr>\n",
       "      <th>1</th>\n",
       "      <td>Dark Shadows</td>\n",
       "      <td>2012-10-27 21:00:00</td>\n",
       "      <td>Prime Video</td>\n",
       "      <td>2012</td>\n",
       "      <td>113</td>\n",
       "      <td>['comedy', 'fantasy', 'horror']</td>\n",
       "      <td>6.2</td>\n",
       "      <td>October</td>\n",
       "      <td>2012.0</td>\n",
       "      <td>comedy</td>\n",
       "    </tr>\n",
       "    <tr>\n",
       "      <th>2</th>\n",
       "      <td>Dark Shadows</td>\n",
       "      <td>2012-11-04 03:00:00</td>\n",
       "      <td>Prime Video</td>\n",
       "      <td>2012</td>\n",
       "      <td>113</td>\n",
       "      <td>['comedy', 'fantasy', 'horror']</td>\n",
       "      <td>6.2</td>\n",
       "      <td>November</td>\n",
       "      <td>2012.0</td>\n",
       "      <td>comedy</td>\n",
       "    </tr>\n",
       "    <tr>\n",
       "      <th>3</th>\n",
       "      <td>Dark Shadows</td>\n",
       "      <td>2012-11-04 03:00:00</td>\n",
       "      <td>Prime Video</td>\n",
       "      <td>2012</td>\n",
       "      <td>113</td>\n",
       "      <td>['comedy', 'fantasy', 'horror']</td>\n",
       "      <td>6.2</td>\n",
       "      <td>November</td>\n",
       "      <td>2012.0</td>\n",
       "      <td>comedy</td>\n",
       "    </tr>\n",
       "    <tr>\n",
       "      <th>4</th>\n",
       "      <td>Dark Shadows</td>\n",
       "      <td>2012-11-04 04:00:00</td>\n",
       "      <td>Prime Video</td>\n",
       "      <td>2012</td>\n",
       "      <td>113</td>\n",
       "      <td>['comedy', 'fantasy', 'horror']</td>\n",
       "      <td>6.2</td>\n",
       "      <td>November</td>\n",
       "      <td>2012.0</td>\n",
       "      <td>comedy</td>\n",
       "    </tr>\n",
       "  </tbody>\n",
       "</table>\n",
       "</div>"
      ],
      "text/plain": [
       "          Title        Date Watched Streaming Service  Release Year  Runtime  \\\n",
       "0  Dark Shadows 2022-10-19 19:51:00              Hulu          2012      113   \n",
       "1  Dark Shadows 2012-10-27 21:00:00       Prime Video          2012      113   \n",
       "2  Dark Shadows 2012-11-04 03:00:00       Prime Video          2012      113   \n",
       "3  Dark Shadows 2012-11-04 03:00:00       Prime Video          2012      113   \n",
       "4  Dark Shadows 2012-11-04 04:00:00       Prime Video          2012      113   \n",
       "\n",
       "                            Genres  Imdb Score Month Watched  Year Watched  \\\n",
       "0  ['comedy', 'fantasy', 'horror']         6.2       October        2022.0   \n",
       "1  ['comedy', 'fantasy', 'horror']         6.2       October        2012.0   \n",
       "2  ['comedy', 'fantasy', 'horror']         6.2      November        2012.0   \n",
       "3  ['comedy', 'fantasy', 'horror']         6.2      November        2012.0   \n",
       "4  ['comedy', 'fantasy', 'horror']         6.2      November        2012.0   \n",
       "\n",
       "    Genre  \n",
       "0  comedy  \n",
       "1  comedy  \n",
       "2  comedy  \n",
       "3  comedy  \n",
       "4  comedy  "
      ]
     },
     "execution_count": 174,
     "metadata": {},
     "output_type": "execute_result"
    }
   ],
   "source": [
    "data_combined.head()"
   ]
  },
  {
   "cell_type": "code",
   "execution_count": 175,
   "metadata": {},
   "outputs": [
    {
     "data": {
      "text/plain": [
       "Jeff Dunham: Relative Disaster             30\n",
       "Katt Williams: Great America               23\n",
       "Pinkfong & Baby Shark's Space Adventure    13\n",
       "Grey's Anatomy                             11\n",
       "Someone Great                              10\n",
       "Name: Title, dtype: int64"
      ]
     },
     "execution_count": 175,
     "metadata": {},
     "output_type": "execute_result"
    }
   ],
   "source": [
    "top_titles = data_combined.Title.value_counts().head()\n",
    "\n",
    "top_titles"
   ]
  },
  {
   "cell_type": "code",
   "execution_count": 176,
   "metadata": {},
   "outputs": [
    {
     "data": {
      "text/html": [
       "<div>\n",
       "<style scoped>\n",
       "    .dataframe tbody tr th:only-of-type {\n",
       "        vertical-align: middle;\n",
       "    }\n",
       "\n",
       "    .dataframe tbody tr th {\n",
       "        vertical-align: top;\n",
       "    }\n",
       "\n",
       "    .dataframe thead th {\n",
       "        text-align: right;\n",
       "    }\n",
       "</style>\n",
       "<table border=\"1\" class=\"dataframe\">\n",
       "  <thead>\n",
       "    <tr style=\"text-align: right;\">\n",
       "      <th></th>\n",
       "      <th>Title</th>\n",
       "      <th>counts</th>\n",
       "    </tr>\n",
       "  </thead>\n",
       "  <tbody>\n",
       "    <tr>\n",
       "      <th>0</th>\n",
       "      <td>Jeff Dunham: Relative Disaster</td>\n",
       "      <td>30</td>\n",
       "    </tr>\n",
       "    <tr>\n",
       "      <th>1</th>\n",
       "      <td>Katt Williams: Great America</td>\n",
       "      <td>23</td>\n",
       "    </tr>\n",
       "    <tr>\n",
       "      <th>2</th>\n",
       "      <td>Pinkfong &amp; Baby Shark's Space Adventure</td>\n",
       "      <td>13</td>\n",
       "    </tr>\n",
       "    <tr>\n",
       "      <th>3</th>\n",
       "      <td>Grey's Anatomy</td>\n",
       "      <td>11</td>\n",
       "    </tr>\n",
       "    <tr>\n",
       "      <th>4</th>\n",
       "      <td>Someone Great</td>\n",
       "      <td>10</td>\n",
       "    </tr>\n",
       "  </tbody>\n",
       "</table>\n",
       "</div>"
      ],
      "text/plain": [
       "                                     Title  counts\n",
       "0           Jeff Dunham: Relative Disaster      30\n",
       "1             Katt Williams: Great America      23\n",
       "2  Pinkfong & Baby Shark's Space Adventure      13\n",
       "3                           Grey's Anatomy      11\n",
       "4                            Someone Great      10"
      ]
     },
     "execution_count": 176,
     "metadata": {},
     "output_type": "execute_result"
    }
   ],
   "source": [
    "# convert series back to dataframe for visualisation \n",
    "titles_counts = pd.DataFrame({'Title': top_titles.index, 'counts': top_titles.values})\n",
    "\n",
    "titles_counts"
   ]
  },
  {
   "cell_type": "code",
   "execution_count": 177,
   "metadata": {},
   "outputs": [
    {
     "data": {
      "text/plain": [
       "2010    310\n",
       "2020    193\n",
       "2000     32\n",
       "1990     18\n",
       "1950      1\n",
       "Name: Decade, dtype: int64"
      ]
     },
     "execution_count": 177,
     "metadata": {},
     "output_type": "execute_result"
    }
   ],
   "source": [
    "# Group the release year by decade\n",
    "def get_decade(val):\n",
    "    return int(str(val)[0:-1] + \"0\")\n",
    "\n",
    "data_combined[\"Decade\"] = data_combined[\"Release Year\"].map(get_decade)\n",
    "data_combined[\"Decade\"].value_counts()"
   ]
  },
  {
   "cell_type": "code",
   "execution_count": 178,
   "metadata": {},
   "outputs": [],
   "source": [
    "data_combined[\"Date Watched\"] = pd.to_datetime(data_combined[\"Date Watched\"], utc=True)"
   ]
  },
  {
   "cell_type": "code",
   "execution_count": 179,
   "metadata": {},
   "outputs": [],
   "source": [
    "data_combined = data_combined.set_index(\"Date Watched\")"
   ]
  },
  {
   "cell_type": "code",
   "execution_count": 180,
   "metadata": {},
   "outputs": [],
   "source": [
    "data_combined.index = data_combined.index.tz_convert('America/New_York')"
   ]
  },
  {
   "cell_type": "code",
   "execution_count": 181,
   "metadata": {},
   "outputs": [],
   "source": [
    "data_combined = data_combined.reset_index()"
   ]
  },
  {
   "cell_type": "code",
   "execution_count": 182,
   "metadata": {},
   "outputs": [],
   "source": [
    "data_combined[\"Day Watched\"] = data_combined[\"Date Watched\"].dt.weekday\n",
    "data_combined[\"Hour Watched\"] = data_combined[\"Date Watched\"].dt.hour"
   ]
  },
  {
   "cell_type": "code",
   "execution_count": 183,
   "metadata": {},
   "outputs": [
    {
     "data": {
      "text/html": [
       "<div>\n",
       "<style scoped>\n",
       "    .dataframe tbody tr th:only-of-type {\n",
       "        vertical-align: middle;\n",
       "    }\n",
       "\n",
       "    .dataframe tbody tr th {\n",
       "        vertical-align: top;\n",
       "    }\n",
       "\n",
       "    .dataframe thead th {\n",
       "        text-align: right;\n",
       "    }\n",
       "</style>\n",
       "<table border=\"1\" class=\"dataframe\">\n",
       "  <thead>\n",
       "    <tr style=\"text-align: right;\">\n",
       "      <th></th>\n",
       "      <th>Date Watched</th>\n",
       "      <th>Title</th>\n",
       "      <th>Streaming Service</th>\n",
       "      <th>Release Year</th>\n",
       "      <th>Runtime</th>\n",
       "      <th>Genres</th>\n",
       "      <th>Imdb Score</th>\n",
       "      <th>Month Watched</th>\n",
       "      <th>Year Watched</th>\n",
       "      <th>Genre</th>\n",
       "      <th>Decade</th>\n",
       "      <th>Day Watched</th>\n",
       "      <th>Hour Watched</th>\n",
       "    </tr>\n",
       "  </thead>\n",
       "  <tbody>\n",
       "    <tr>\n",
       "      <th>0</th>\n",
       "      <td>2022-10-19 15:51:00-04:00</td>\n",
       "      <td>Dark Shadows</td>\n",
       "      <td>Hulu</td>\n",
       "      <td>2012</td>\n",
       "      <td>113</td>\n",
       "      <td>['comedy', 'fantasy', 'horror']</td>\n",
       "      <td>6.2</td>\n",
       "      <td>October</td>\n",
       "      <td>2022.0</td>\n",
       "      <td>comedy</td>\n",
       "      <td>2010</td>\n",
       "      <td>2.0</td>\n",
       "      <td>15.0</td>\n",
       "    </tr>\n",
       "    <tr>\n",
       "      <th>1</th>\n",
       "      <td>2012-10-27 17:00:00-04:00</td>\n",
       "      <td>Dark Shadows</td>\n",
       "      <td>Prime Video</td>\n",
       "      <td>2012</td>\n",
       "      <td>113</td>\n",
       "      <td>['comedy', 'fantasy', 'horror']</td>\n",
       "      <td>6.2</td>\n",
       "      <td>October</td>\n",
       "      <td>2012.0</td>\n",
       "      <td>comedy</td>\n",
       "      <td>2010</td>\n",
       "      <td>5.0</td>\n",
       "      <td>17.0</td>\n",
       "    </tr>\n",
       "    <tr>\n",
       "      <th>2</th>\n",
       "      <td>2012-11-03 23:00:00-04:00</td>\n",
       "      <td>Dark Shadows</td>\n",
       "      <td>Prime Video</td>\n",
       "      <td>2012</td>\n",
       "      <td>113</td>\n",
       "      <td>['comedy', 'fantasy', 'horror']</td>\n",
       "      <td>6.2</td>\n",
       "      <td>November</td>\n",
       "      <td>2012.0</td>\n",
       "      <td>comedy</td>\n",
       "      <td>2010</td>\n",
       "      <td>5.0</td>\n",
       "      <td>23.0</td>\n",
       "    </tr>\n",
       "    <tr>\n",
       "      <th>3</th>\n",
       "      <td>2012-11-03 23:00:00-04:00</td>\n",
       "      <td>Dark Shadows</td>\n",
       "      <td>Prime Video</td>\n",
       "      <td>2012</td>\n",
       "      <td>113</td>\n",
       "      <td>['comedy', 'fantasy', 'horror']</td>\n",
       "      <td>6.2</td>\n",
       "      <td>November</td>\n",
       "      <td>2012.0</td>\n",
       "      <td>comedy</td>\n",
       "      <td>2010</td>\n",
       "      <td>5.0</td>\n",
       "      <td>23.0</td>\n",
       "    </tr>\n",
       "    <tr>\n",
       "      <th>4</th>\n",
       "      <td>2012-11-04 00:00:00-04:00</td>\n",
       "      <td>Dark Shadows</td>\n",
       "      <td>Prime Video</td>\n",
       "      <td>2012</td>\n",
       "      <td>113</td>\n",
       "      <td>['comedy', 'fantasy', 'horror']</td>\n",
       "      <td>6.2</td>\n",
       "      <td>November</td>\n",
       "      <td>2012.0</td>\n",
       "      <td>comedy</td>\n",
       "      <td>2010</td>\n",
       "      <td>6.0</td>\n",
       "      <td>0.0</td>\n",
       "    </tr>\n",
       "  </tbody>\n",
       "</table>\n",
       "</div>"
      ],
      "text/plain": [
       "               Date Watched         Title Streaming Service  Release Year  \\\n",
       "0 2022-10-19 15:51:00-04:00  Dark Shadows              Hulu          2012   \n",
       "1 2012-10-27 17:00:00-04:00  Dark Shadows       Prime Video          2012   \n",
       "2 2012-11-03 23:00:00-04:00  Dark Shadows       Prime Video          2012   \n",
       "3 2012-11-03 23:00:00-04:00  Dark Shadows       Prime Video          2012   \n",
       "4 2012-11-04 00:00:00-04:00  Dark Shadows       Prime Video          2012   \n",
       "\n",
       "   Runtime                           Genres  Imdb Score Month Watched  \\\n",
       "0      113  ['comedy', 'fantasy', 'horror']         6.2       October   \n",
       "1      113  ['comedy', 'fantasy', 'horror']         6.2       October   \n",
       "2      113  ['comedy', 'fantasy', 'horror']         6.2      November   \n",
       "3      113  ['comedy', 'fantasy', 'horror']         6.2      November   \n",
       "4      113  ['comedy', 'fantasy', 'horror']         6.2      November   \n",
       "\n",
       "   Year Watched   Genre  Decade  Day Watched  Hour Watched  \n",
       "0        2022.0  comedy    2010          2.0          15.0  \n",
       "1        2012.0  comedy    2010          5.0          17.0  \n",
       "2        2012.0  comedy    2010          5.0          23.0  \n",
       "3        2012.0  comedy    2010          5.0          23.0  \n",
       "4        2012.0  comedy    2010          6.0           0.0  "
      ]
     },
     "execution_count": 183,
     "metadata": {},
     "output_type": "execute_result"
    }
   ],
   "source": [
    "data_combined.head()"
   ]
  },
  {
   "cell_type": "code",
   "execution_count": 184,
   "metadata": {},
   "outputs": [
    {
     "ename": "NameError",
     "evalue": "name 'topdf' is not defined",
     "output_type": "error",
     "traceback": [
      "\u001b[1;31m---------------------------------------------------------------------------\u001b[0m",
      "\u001b[1;31mNameError\u001b[0m                                 Traceback (most recent call last)",
      "Cell \u001b[1;32mIn [184], line 4\u001b[0m\n\u001b[0;32m      1\u001b[0m plt\u001b[39m.\u001b[39mfigure(figsize\u001b[39m=\u001b[39m(\u001b[39m25\u001b[39m, \u001b[39m8\u001b[39m))\n\u001b[0;32m      2\u001b[0m sns\u001b[39m.\u001b[39mset_context(\u001b[39m'\u001b[39m\u001b[39mnotebook\u001b[39m\u001b[39m'\u001b[39m, font_scale \u001b[39m=\u001b[39m \u001b[39m1\u001b[39m, rc \u001b[39m=\u001b[39m {\u001b[39m\"\u001b[39m\u001b[39mgrid.linewidth\u001b[39m\u001b[39m\"\u001b[39m:\u001b[39m2\u001b[39m}) \n\u001b[1;32m----> 4\u001b[0m x \u001b[39m=\u001b[39m topdf\u001b[39m.\u001b[39mtitles\n\u001b[0;32m      5\u001b[0m y \u001b[39m=\u001b[39m topdf\u001b[39m.\u001b[39mcounts\n\u001b[0;32m      7\u001b[0m \u001b[39m# custom colours used as some titles will be reused in another graphic below\u001b[39;00m\n",
      "\u001b[1;31mNameError\u001b[0m: name 'topdf' is not defined"
     ]
    },
    {
     "data": {
      "text/plain": [
       "<Figure size 2500x800 with 0 Axes>"
      ]
     },
     "metadata": {},
     "output_type": "display_data"
    }
   ],
   "source": [
    "plt.figure(figsize=(25, 8))\n",
    "sns.set_context('notebook', font_scale = 1, rc = {\"grid.linewidth\":2}) \n",
    "\n",
    "x = topdf.titles\n",
    "y = topdf.counts\n",
    "\n",
    "# custom colours used as some titles will be reused in another graphic below\n",
    "plt.bar(x, y, color=['black', 'green', 'maroon', 'blue', 'purple'])\n",
    "# colours you can directly access within matplotlib: aqua, black, blue, fuchsia, gray, green, lime, maroon, navy, olive, purple, red, silver, teal, white, yellow \n",
    "\n",
    "plt.ylabel('Times watched')\n",
    "plt.xlabel('Title')\n",
    "plt.title('Top 5 rewatched films/episodes')\n",
    "plt.xticks(topdf.titles, rotation = 3)\n",
    "\n",
    "plt.show()\n",
    "plt.clf()\n",
    "\n"
   ]
  }
 ],
 "metadata": {
  "kernelspec": {
   "display_name": "Python 3.10.2 64-bit",
   "language": "python",
   "name": "python3"
  },
  "language_info": {
   "codemirror_mode": {
    "name": "ipython",
    "version": 3
   },
   "file_extension": ".py",
   "mimetype": "text/x-python",
   "name": "python",
   "nbconvert_exporter": "python",
   "pygments_lexer": "ipython3",
   "version": "3.10.2"
  },
  "orig_nbformat": 4,
  "vscode": {
   "interpreter": {
    "hash": "369f2c481f4da34e4445cda3fffd2e751bd1c4d706f27375911949ba6bb62e1c"
   }
  }
 },
 "nbformat": 4,
 "nbformat_minor": 2
}
