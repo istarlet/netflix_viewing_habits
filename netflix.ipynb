{
 "cells": [
  {
   "cell_type": "markdown",
   "metadata": {},
   "source": [
    "## Netflix Viewing Habits"
   ]
  },
  {
   "cell_type": "code",
   "execution_count": 1,
   "metadata": {},
   "outputs": [
    {
     "ename": "ModuleNotFoundError",
     "evalue": "No module named 'pandas_profiling'",
     "output_type": "error",
     "traceback": [
      "\u001b[1;31m---------------------------------------------------------------------------\u001b[0m",
      "\u001b[1;31mModuleNotFoundError\u001b[0m                       Traceback (most recent call last)",
      "Cell \u001b[1;32mIn [1], line 6\u001b[0m\n\u001b[0;32m      4\u001b[0m \u001b[39mimport\u001b[39;00m \u001b[39mseaborn\u001b[39;00m \u001b[39mas\u001b[39;00m \u001b[39msns\u001b[39;00m\n\u001b[0;32m      5\u001b[0m \u001b[39mimport\u001b[39;00m \u001b[39mmatplotlib\u001b[39;00m\u001b[39m.\u001b[39;00m\u001b[39mpyplot\u001b[39;00m \u001b[39mas\u001b[39;00m \u001b[39mplt\u001b[39;00m\n\u001b[1;32m----> 6\u001b[0m \u001b[39mfrom\u001b[39;00m \u001b[39mpandas_profiling\u001b[39;00m \u001b[39mimport\u001b[39;00m ProfileReport\n",
      "\u001b[1;31mModuleNotFoundError\u001b[0m: No module named 'pandas_profiling'"
     ]
    }
   ],
   "source": [
    "# Import Libraries\n",
    "import pandas as pd\n",
    "import numpy as np\n",
    "import seaborn as sns\n",
    "import matplotlib.pyplot as plt\n",
    "from pandas_profiling import ProfileReport"
   ]
  },
  {
   "cell_type": "code",
   "execution_count": null,
   "metadata": {},
   "outputs": [],
   "source": [
    "# Load in the data\n",
    "df = pd.read_csv(\"data\\AshleyViewingActivity.csv\")"
   ]
  },
  {
   "cell_type": "code",
   "execution_count": null,
   "metadata": {},
   "outputs": [
    {
     "name": "stdout",
     "output_type": "stream",
     "text": [
      "  Profile Name           Start Time  Duration Attributes  \\\n",
      "0       Ashley  2022-10-03 03:07:28  00:33:42        NaN   \n",
      "1       Ashley  2022-10-03 02:57:22  00:09:19        NaN   \n",
      "2       Ashley  2022-09-18 02:42:20  00:16:13        NaN   \n",
      "3       Ashley  2022-09-12 02:04:54  00:41:43        NaN   \n",
      "4       Ashley  2022-09-11 03:37:02  00:02:44        NaN   \n",
      "\n",
      "                                               Title Supplemental Video Type  \\\n",
      "0                                       The Munsters                     NaN   \n",
      "1  Stranger Things: Stranger Things 4: Chapter Si...                     NaN   \n",
      "2  Stranger Things: Stranger Things 4: Chapter Si...                     NaN   \n",
      "3  Stranger Things: Stranger Things 4: Chapter Si...                     NaN   \n",
      "4  Stranger Things: Stranger Things 4: Chapter Si...                     NaN   \n",
      "\n",
      "                 Device Type  Bookmark  Latest Bookmark             Country  \n",
      "0  iPad Pro 9.7-Inch (Wi-Fi)  00:33:43         00:33:43  US (United States)  \n",
      "1  iPad Pro 9.7-Inch (Wi-Fi)  01:10:20         01:10:20  US (United States)  \n",
      "2  iPad Pro 9.7-Inch (Wi-Fi)  01:01:01  Not latest view  US (United States)  \n",
      "3  iPad Pro 9.7-Inch (Wi-Fi)  00:44:37  Not latest view  US (United States)  \n",
      "4  iPad Pro 9.7-Inch (Wi-Fi)  00:02:53  Not latest view  US (United States)  \n"
     ]
    }
   ],
   "source": [
    "print(df.head())"
   ]
  }
 ],
 "metadata": {
  "kernelspec": {
   "display_name": "Python 3.10.2 64-bit",
   "language": "python",
   "name": "python3"
  },
  "language_info": {
   "codemirror_mode": {
    "name": "ipython",
    "version": 3
   },
   "file_extension": ".py",
   "mimetype": "text/x-python",
   "name": "python",
   "nbconvert_exporter": "python",
   "pygments_lexer": "ipython3",
   "version": "3.10.2"
  },
  "orig_nbformat": 4,
  "vscode": {
   "interpreter": {
    "hash": "369f2c481f4da34e4445cda3fffd2e751bd1c4d706f27375911949ba6bb62e1c"
   }
  }
 },
 "nbformat": 4,
 "nbformat_minor": 2
}
