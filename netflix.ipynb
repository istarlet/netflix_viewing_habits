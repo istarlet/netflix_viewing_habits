{
 "cells": [
  {
   "cell_type": "markdown",
   "metadata": {},
   "source": [
    "## Netflix Viewing Habits"
   ]
  },
  {
   "cell_type": "code",
   "execution_count": 158,
   "metadata": {},
   "outputs": [],
   "source": [
    "# Import Libraries\n",
    "import pandas as pd\n",
    "import numpy as np\n",
    "import seaborn as sns\n",
    "import matplotlib.pyplot as plt\n",
    "#from pandas_profiling import ProfileReport"
   ]
  },
  {
   "cell_type": "code",
   "execution_count": 159,
   "metadata": {},
   "outputs": [],
   "source": [
    "# Read CSV file\n",
    "df = pd.read_csv(\"data\\AshleyViewingActivity.csv\")"
   ]
  },
  {
   "cell_type": "code",
   "execution_count": 160,
   "metadata": {},
   "outputs": [
    {
     "data": {
      "text/html": [
       "<div>\n",
       "<style scoped>\n",
       "    .dataframe tbody tr th:only-of-type {\n",
       "        vertical-align: middle;\n",
       "    }\n",
       "\n",
       "    .dataframe tbody tr th {\n",
       "        vertical-align: top;\n",
       "    }\n",
       "\n",
       "    .dataframe thead th {\n",
       "        text-align: right;\n",
       "    }\n",
       "</style>\n",
       "<table border=\"1\" class=\"dataframe\">\n",
       "  <thead>\n",
       "    <tr style=\"text-align: right;\">\n",
       "      <th></th>\n",
       "      <th>Profile Name</th>\n",
       "      <th>Start Time</th>\n",
       "      <th>Duration</th>\n",
       "      <th>Attributes</th>\n",
       "      <th>Title</th>\n",
       "      <th>Supplemental Video Type</th>\n",
       "      <th>Device Type</th>\n",
       "      <th>Bookmark</th>\n",
       "      <th>Latest Bookmark</th>\n",
       "      <th>Country</th>\n",
       "    </tr>\n",
       "  </thead>\n",
       "  <tbody>\n",
       "    <tr>\n",
       "      <th>0</th>\n",
       "      <td>Ashley</td>\n",
       "      <td>2022-10-03 03:07:28</td>\n",
       "      <td>00:33:42</td>\n",
       "      <td>NaN</td>\n",
       "      <td>The Munsters</td>\n",
       "      <td>NaN</td>\n",
       "      <td>iPad Pro 9.7-Inch (Wi-Fi)</td>\n",
       "      <td>00:33:43</td>\n",
       "      <td>00:33:43</td>\n",
       "      <td>US (United States)</td>\n",
       "    </tr>\n",
       "    <tr>\n",
       "      <th>1</th>\n",
       "      <td>Ashley</td>\n",
       "      <td>2022-10-03 02:57:22</td>\n",
       "      <td>00:09:19</td>\n",
       "      <td>NaN</td>\n",
       "      <td>Stranger Things: Stranger Things 4: Chapter Si...</td>\n",
       "      <td>NaN</td>\n",
       "      <td>iPad Pro 9.7-Inch (Wi-Fi)</td>\n",
       "      <td>01:10:20</td>\n",
       "      <td>01:10:20</td>\n",
       "      <td>US (United States)</td>\n",
       "    </tr>\n",
       "    <tr>\n",
       "      <th>2</th>\n",
       "      <td>Ashley</td>\n",
       "      <td>2022-09-18 02:42:20</td>\n",
       "      <td>00:16:13</td>\n",
       "      <td>NaN</td>\n",
       "      <td>Stranger Things: Stranger Things 4: Chapter Si...</td>\n",
       "      <td>NaN</td>\n",
       "      <td>iPad Pro 9.7-Inch (Wi-Fi)</td>\n",
       "      <td>01:01:01</td>\n",
       "      <td>Not latest view</td>\n",
       "      <td>US (United States)</td>\n",
       "    </tr>\n",
       "    <tr>\n",
       "      <th>3</th>\n",
       "      <td>Ashley</td>\n",
       "      <td>2022-09-12 02:04:54</td>\n",
       "      <td>00:41:43</td>\n",
       "      <td>NaN</td>\n",
       "      <td>Stranger Things: Stranger Things 4: Chapter Si...</td>\n",
       "      <td>NaN</td>\n",
       "      <td>iPad Pro 9.7-Inch (Wi-Fi)</td>\n",
       "      <td>00:44:37</td>\n",
       "      <td>Not latest view</td>\n",
       "      <td>US (United States)</td>\n",
       "    </tr>\n",
       "    <tr>\n",
       "      <th>4</th>\n",
       "      <td>Ashley</td>\n",
       "      <td>2022-09-11 03:37:02</td>\n",
       "      <td>00:02:44</td>\n",
       "      <td>NaN</td>\n",
       "      <td>Stranger Things: Stranger Things 4: Chapter Si...</td>\n",
       "      <td>NaN</td>\n",
       "      <td>iPad Pro 9.7-Inch (Wi-Fi)</td>\n",
       "      <td>00:02:53</td>\n",
       "      <td>Not latest view</td>\n",
       "      <td>US (United States)</td>\n",
       "    </tr>\n",
       "  </tbody>\n",
       "</table>\n",
       "</div>"
      ],
      "text/plain": [
       "  Profile Name           Start Time  Duration Attributes  \\\n",
       "0       Ashley  2022-10-03 03:07:28  00:33:42        NaN   \n",
       "1       Ashley  2022-10-03 02:57:22  00:09:19        NaN   \n",
       "2       Ashley  2022-09-18 02:42:20  00:16:13        NaN   \n",
       "3       Ashley  2022-09-12 02:04:54  00:41:43        NaN   \n",
       "4       Ashley  2022-09-11 03:37:02  00:02:44        NaN   \n",
       "\n",
       "                                               Title Supplemental Video Type  \\\n",
       "0                                       The Munsters                     NaN   \n",
       "1  Stranger Things: Stranger Things 4: Chapter Si...                     NaN   \n",
       "2  Stranger Things: Stranger Things 4: Chapter Si...                     NaN   \n",
       "3  Stranger Things: Stranger Things 4: Chapter Si...                     NaN   \n",
       "4  Stranger Things: Stranger Things 4: Chapter Si...                     NaN   \n",
       "\n",
       "                 Device Type  Bookmark  Latest Bookmark             Country  \n",
       "0  iPad Pro 9.7-Inch (Wi-Fi)  00:33:43         00:33:43  US (United States)  \n",
       "1  iPad Pro 9.7-Inch (Wi-Fi)  01:10:20         01:10:20  US (United States)  \n",
       "2  iPad Pro 9.7-Inch (Wi-Fi)  01:01:01  Not latest view  US (United States)  \n",
       "3  iPad Pro 9.7-Inch (Wi-Fi)  00:44:37  Not latest view  US (United States)  \n",
       "4  iPad Pro 9.7-Inch (Wi-Fi)  00:02:53  Not latest view  US (United States)  "
      ]
     },
     "execution_count": 160,
     "metadata": {},
     "output_type": "execute_result"
    }
   ],
   "source": [
    "# Inspect the data by viewing the first five rows\n",
    "df.head()"
   ]
  },
  {
   "cell_type": "code",
   "execution_count": 161,
   "metadata": {},
   "outputs": [
    {
     "name": "stdout",
     "output_type": "stream",
     "text": [
      "  Profile Name           Start Time  Duration Attributes  \\\n",
      "0       Ashley  2022-10-03 03:07:28  00:33:42        NaN   \n",
      "1       Ashley  2022-10-03 02:57:22  00:09:19        NaN   \n",
      "2       Ashley  2022-09-18 02:42:20  00:16:13        NaN   \n",
      "3       Ashley  2022-09-12 02:04:54  00:41:43        NaN   \n",
      "4       Ashley  2022-09-11 03:37:02  00:02:44        NaN   \n",
      "\n",
      "                                               Title Supplemental Video Type  \\\n",
      "0                                       The Munsters                     NaN   \n",
      "1  Stranger Things: Stranger Things 4: Chapter Si...                     NaN   \n",
      "2  Stranger Things: Stranger Things 4: Chapter Si...                     NaN   \n",
      "3  Stranger Things: Stranger Things 4: Chapter Si...                     NaN   \n",
      "4  Stranger Things: Stranger Things 4: Chapter Si...                     NaN   \n",
      "\n",
      "                 Device Type  Bookmark  Latest Bookmark             Country  \n",
      "0  iPad Pro 9.7-Inch (Wi-Fi)  00:33:43         00:33:43  US (United States)  \n",
      "1  iPad Pro 9.7-Inch (Wi-Fi)  01:10:20         01:10:20  US (United States)  \n",
      "2  iPad Pro 9.7-Inch (Wi-Fi)  01:01:01  Not latest view  US (United States)  \n",
      "3  iPad Pro 9.7-Inch (Wi-Fi)  00:44:37  Not latest view  US (United States)  \n",
      "4  iPad Pro 9.7-Inch (Wi-Fi)  00:02:53  Not latest view  US (United States)  \n"
     ]
    }
   ],
   "source": [
    "df = df[df[\"Profile Name\"] == \"Ashley\"]\n",
    "\n",
    "print(df.head())"
   ]
  },
  {
   "cell_type": "code",
   "execution_count": 162,
   "metadata": {},
   "outputs": [
    {
     "data": {
      "text/html": [
       "<div>\n",
       "<style scoped>\n",
       "    .dataframe tbody tr th:only-of-type {\n",
       "        vertical-align: middle;\n",
       "    }\n",
       "\n",
       "    .dataframe tbody tr th {\n",
       "        vertical-align: top;\n",
       "    }\n",
       "\n",
       "    .dataframe thead th {\n",
       "        text-align: right;\n",
       "    }\n",
       "</style>\n",
       "<table border=\"1\" class=\"dataframe\">\n",
       "  <thead>\n",
       "    <tr style=\"text-align: right;\">\n",
       "      <th></th>\n",
       "      <th>Profile Name</th>\n",
       "      <th>Start Time</th>\n",
       "      <th>Duration</th>\n",
       "      <th>Title</th>\n",
       "      <th>Device Type</th>\n",
       "    </tr>\n",
       "  </thead>\n",
       "  <tbody>\n",
       "    <tr>\n",
       "      <th>0</th>\n",
       "      <td>Ashley</td>\n",
       "      <td>2022-10-03 03:07:28</td>\n",
       "      <td>00:33:42</td>\n",
       "      <td>The Munsters</td>\n",
       "      <td>iPad Pro 9.7-Inch (Wi-Fi)</td>\n",
       "    </tr>\n",
       "    <tr>\n",
       "      <th>1</th>\n",
       "      <td>Ashley</td>\n",
       "      <td>2022-10-03 02:57:22</td>\n",
       "      <td>00:09:19</td>\n",
       "      <td>Stranger Things: Stranger Things 4: Chapter Si...</td>\n",
       "      <td>iPad Pro 9.7-Inch (Wi-Fi)</td>\n",
       "    </tr>\n",
       "    <tr>\n",
       "      <th>2</th>\n",
       "      <td>Ashley</td>\n",
       "      <td>2022-09-18 02:42:20</td>\n",
       "      <td>00:16:13</td>\n",
       "      <td>Stranger Things: Stranger Things 4: Chapter Si...</td>\n",
       "      <td>iPad Pro 9.7-Inch (Wi-Fi)</td>\n",
       "    </tr>\n",
       "    <tr>\n",
       "      <th>3</th>\n",
       "      <td>Ashley</td>\n",
       "      <td>2022-09-12 02:04:54</td>\n",
       "      <td>00:41:43</td>\n",
       "      <td>Stranger Things: Stranger Things 4: Chapter Si...</td>\n",
       "      <td>iPad Pro 9.7-Inch (Wi-Fi)</td>\n",
       "    </tr>\n",
       "    <tr>\n",
       "      <th>4</th>\n",
       "      <td>Ashley</td>\n",
       "      <td>2022-09-11 03:37:02</td>\n",
       "      <td>00:02:44</td>\n",
       "      <td>Stranger Things: Stranger Things 4: Chapter Si...</td>\n",
       "      <td>iPad Pro 9.7-Inch (Wi-Fi)</td>\n",
       "    </tr>\n",
       "  </tbody>\n",
       "</table>\n",
       "</div>"
      ],
      "text/plain": [
       "  Profile Name           Start Time  Duration  \\\n",
       "0       Ashley  2022-10-03 03:07:28  00:33:42   \n",
       "1       Ashley  2022-10-03 02:57:22  00:09:19   \n",
       "2       Ashley  2022-09-18 02:42:20  00:16:13   \n",
       "3       Ashley  2022-09-12 02:04:54  00:41:43   \n",
       "4       Ashley  2022-09-11 03:37:02  00:02:44   \n",
       "\n",
       "                                               Title  \\\n",
       "0                                       The Munsters   \n",
       "1  Stranger Things: Stranger Things 4: Chapter Si...   \n",
       "2  Stranger Things: Stranger Things 4: Chapter Si...   \n",
       "3  Stranger Things: Stranger Things 4: Chapter Si...   \n",
       "4  Stranger Things: Stranger Things 4: Chapter Si...   \n",
       "\n",
       "                 Device Type  \n",
       "0  iPad Pro 9.7-Inch (Wi-Fi)  \n",
       "1  iPad Pro 9.7-Inch (Wi-Fi)  \n",
       "2  iPad Pro 9.7-Inch (Wi-Fi)  \n",
       "3  iPad Pro 9.7-Inch (Wi-Fi)  \n",
       "4  iPad Pro 9.7-Inch (Wi-Fi)  "
      ]
     },
     "execution_count": 162,
     "metadata": {},
     "output_type": "execute_result"
    }
   ],
   "source": [
    "# Drop columns that aren't needed\n",
    "ashley_netflix = df.drop(columns=[\"Attributes\", \"Supplemental Video Type\", \"Bookmark\", \"Latest Bookmark\", \"Country\"], axis=1)\n",
    "\n",
    "# View updated df\n",
    "ashley_netflix.head()"
   ]
  },
  {
   "cell_type": "code",
   "execution_count": 163,
   "metadata": {},
   "outputs": [
    {
     "name": "stdout",
     "output_type": "stream",
     "text": [
      "<class 'pandas.core.frame.DataFrame'>\n",
      "Int64Index: 6719 entries, 0 to 6718\n",
      "Data columns (total 5 columns):\n",
      " #   Column        Non-Null Count  Dtype \n",
      "---  ------        --------------  ----- \n",
      " 0   Profile Name  6719 non-null   object\n",
      " 1   Start Time    6719 non-null   object\n",
      " 2   Duration      6719 non-null   object\n",
      " 3   Title         6719 non-null   object\n",
      " 4   Device Type   6545 non-null   object\n",
      "dtypes: object(5)\n",
      "memory usage: 315.0+ KB\n"
     ]
    }
   ],
   "source": [
    "ashley_netflix.info()"
   ]
  },
  {
   "cell_type": "code",
   "execution_count": 164,
   "metadata": {},
   "outputs": [
    {
     "data": {
      "text/html": [
       "<div>\n",
       "<style scoped>\n",
       "    .dataframe tbody tr th:only-of-type {\n",
       "        vertical-align: middle;\n",
       "    }\n",
       "\n",
       "    .dataframe tbody tr th {\n",
       "        vertical-align: top;\n",
       "    }\n",
       "\n",
       "    .dataframe thead th {\n",
       "        text-align: right;\n",
       "    }\n",
       "</style>\n",
       "<table border=\"1\" class=\"dataframe\">\n",
       "  <thead>\n",
       "    <tr style=\"text-align: right;\">\n",
       "      <th></th>\n",
       "      <th>Profile Name</th>\n",
       "      <th>Start Time</th>\n",
       "      <th>Duration</th>\n",
       "      <th>Title</th>\n",
       "      <th>Device Type</th>\n",
       "    </tr>\n",
       "  </thead>\n",
       "  <tbody>\n",
       "    <tr>\n",
       "      <th>count</th>\n",
       "      <td>6719</td>\n",
       "      <td>6719</td>\n",
       "      <td>6719</td>\n",
       "      <td>6719</td>\n",
       "      <td>6545</td>\n",
       "    </tr>\n",
       "    <tr>\n",
       "      <th>unique</th>\n",
       "      <td>1</td>\n",
       "      <td>6707</td>\n",
       "      <td>2861</td>\n",
       "      <td>4268</td>\n",
       "      <td>20</td>\n",
       "    </tr>\n",
       "    <tr>\n",
       "      <th>top</th>\n",
       "      <td>Ashley</td>\n",
       "      <td>2011-09-04 02:28:11</td>\n",
       "      <td>00:00:01</td>\n",
       "      <td>Them Idiots! Whirled Tour</td>\n",
       "      <td>Mobile</td>\n",
       "    </tr>\n",
       "    <tr>\n",
       "      <th>freq</th>\n",
       "      <td>6719</td>\n",
       "      <td>2</td>\n",
       "      <td>61</td>\n",
       "      <td>49</td>\n",
       "      <td>1474</td>\n",
       "    </tr>\n",
       "  </tbody>\n",
       "</table>\n",
       "</div>"
      ],
      "text/plain": [
       "       Profile Name           Start Time  Duration                      Title  \\\n",
       "count          6719                 6719      6719                       6719   \n",
       "unique            1                 6707      2861                       4268   \n",
       "top          Ashley  2011-09-04 02:28:11  00:00:01  Them Idiots! Whirled Tour   \n",
       "freq           6719                    2        61                         49   \n",
       "\n",
       "       Device Type  \n",
       "count         6545  \n",
       "unique          20  \n",
       "top         Mobile  \n",
       "freq          1474  "
      ]
     },
     "execution_count": 164,
     "metadata": {},
     "output_type": "execute_result"
    }
   ],
   "source": [
    "ashley_netflix.describe()"
   ]
  },
  {
   "cell_type": "code",
   "execution_count": 174,
   "metadata": {},
   "outputs": [
    {
     "data": {
      "text/plain": [
       "Index(['Profile Name', 'Start Time', 'Duration', 'Title', 'Device Type'], dtype='object')"
      ]
     },
     "execution_count": 174,
     "metadata": {},
     "output_type": "execute_result"
    }
   ],
   "source": [
    "ashley_netflix.columns"
   ]
  },
  {
   "cell_type": "code",
   "execution_count": 165,
   "metadata": {},
   "outputs": [
    {
     "ename": "ValueError",
     "evalue": "('Lengths must match to compare', (6719,), (1,))",
     "output_type": "error",
     "traceback": [
      "\u001b[1;31m---------------------------------------------------------------------------\u001b[0m",
      "\u001b[1;31mValueError\u001b[0m                                Traceback (most recent call last)",
      "Cell \u001b[1;32mIn [165], line 1\u001b[0m\n\u001b[1;32m----> 1\u001b[0m ashley_top_titles \u001b[39m=\u001b[39m ashley_netflix\u001b[39m.\u001b[39mdrop(ashley_netflix\u001b[39m.\u001b[39;49mTitle\u001b[39m==\u001b[39;49m[\u001b[39m\"\u001b[39;49m\u001b[39mThem Idiots! Whirled Tour\u001b[39;49m\u001b[39m\"\u001b[39;49m], axis\u001b[39m=\u001b[39m\u001b[39m0\u001b[39m)\n",
      "File \u001b[1;32mc:\\Python310\\lib\\site-packages\\pandas\\core\\ops\\common.py:70\u001b[0m, in \u001b[0;36m_unpack_zerodim_and_defer.<locals>.new_method\u001b[1;34m(self, other)\u001b[0m\n\u001b[0;32m     66\u001b[0m             \u001b[39mreturn\u001b[39;00m \u001b[39mNotImplemented\u001b[39m\n\u001b[0;32m     68\u001b[0m other \u001b[39m=\u001b[39m item_from_zerodim(other)\n\u001b[1;32m---> 70\u001b[0m \u001b[39mreturn\u001b[39;00m method(\u001b[39mself\u001b[39;49m, other)\n",
      "File \u001b[1;32mc:\\Python310\\lib\\site-packages\\pandas\\core\\arraylike.py:40\u001b[0m, in \u001b[0;36mOpsMixin.__eq__\u001b[1;34m(self, other)\u001b[0m\n\u001b[0;32m     38\u001b[0m \u001b[39m@unpack_zerodim_and_defer\u001b[39m(\u001b[39m\"\u001b[39m\u001b[39m__eq__\u001b[39m\u001b[39m\"\u001b[39m)\n\u001b[0;32m     39\u001b[0m \u001b[39mdef\u001b[39;00m \u001b[39m__eq__\u001b[39m(\u001b[39mself\u001b[39m, other):\n\u001b[1;32m---> 40\u001b[0m     \u001b[39mreturn\u001b[39;00m \u001b[39mself\u001b[39;49m\u001b[39m.\u001b[39;49m_cmp_method(other, operator\u001b[39m.\u001b[39;49meq)\n",
      "File \u001b[1;32mc:\\Python310\\lib\\site-packages\\pandas\\core\\series.py:5623\u001b[0m, in \u001b[0;36mSeries._cmp_method\u001b[1;34m(self, other, op)\u001b[0m\n\u001b[0;32m   5620\u001b[0m rvalues \u001b[39m=\u001b[39m extract_array(other, extract_numpy\u001b[39m=\u001b[39m\u001b[39mTrue\u001b[39;00m, extract_range\u001b[39m=\u001b[39m\u001b[39mTrue\u001b[39;00m)\n\u001b[0;32m   5622\u001b[0m \u001b[39mwith\u001b[39;00m np\u001b[39m.\u001b[39merrstate(\u001b[39mall\u001b[39m\u001b[39m=\u001b[39m\u001b[39m\"\u001b[39m\u001b[39mignore\u001b[39m\u001b[39m\"\u001b[39m):\n\u001b[1;32m-> 5623\u001b[0m     res_values \u001b[39m=\u001b[39m ops\u001b[39m.\u001b[39;49mcomparison_op(lvalues, rvalues, op)\n\u001b[0;32m   5625\u001b[0m \u001b[39mreturn\u001b[39;00m \u001b[39mself\u001b[39m\u001b[39m.\u001b[39m_construct_result(res_values, name\u001b[39m=\u001b[39mres_name)\n",
      "File \u001b[1;32mc:\\Python310\\lib\\site-packages\\pandas\\core\\ops\\array_ops.py:260\u001b[0m, in \u001b[0;36mcomparison_op\u001b[1;34m(left, right, op)\u001b[0m\n\u001b[0;32m    255\u001b[0m \u001b[39mif\u001b[39;00m \u001b[39misinstance\u001b[39m(rvalues, (np\u001b[39m.\u001b[39mndarray, ABCExtensionArray)):\n\u001b[0;32m    256\u001b[0m     \u001b[39m# TODO: make this treatment consistent across ops and classes.\u001b[39;00m\n\u001b[0;32m    257\u001b[0m     \u001b[39m#  We are not catching all listlikes here (e.g. frozenset, tuple)\u001b[39;00m\n\u001b[0;32m    258\u001b[0m     \u001b[39m#  The ambiguous case is object-dtype.  See GH#27803\u001b[39;00m\n\u001b[0;32m    259\u001b[0m     \u001b[39mif\u001b[39;00m \u001b[39mlen\u001b[39m(lvalues) \u001b[39m!=\u001b[39m \u001b[39mlen\u001b[39m(rvalues):\n\u001b[1;32m--> 260\u001b[0m         \u001b[39mraise\u001b[39;00m \u001b[39mValueError\u001b[39;00m(\n\u001b[0;32m    261\u001b[0m             \u001b[39m\"\u001b[39m\u001b[39mLengths must match to compare\u001b[39m\u001b[39m\"\u001b[39m, lvalues\u001b[39m.\u001b[39mshape, rvalues\u001b[39m.\u001b[39mshape\n\u001b[0;32m    262\u001b[0m         )\n\u001b[0;32m    264\u001b[0m \u001b[39mif\u001b[39;00m should_extension_dispatch(lvalues, rvalues) \u001b[39mor\u001b[39;00m (\n\u001b[0;32m    265\u001b[0m     (\u001b[39misinstance\u001b[39m(rvalues, (Timedelta, BaseOffset, Timestamp)) \u001b[39mor\u001b[39;00m right \u001b[39mis\u001b[39;00m NaT)\n\u001b[0;32m    266\u001b[0m     \u001b[39mand\u001b[39;00m \u001b[39mnot\u001b[39;00m is_object_dtype(lvalues\u001b[39m.\u001b[39mdtype)\n\u001b[0;32m    267\u001b[0m ):\n\u001b[0;32m    268\u001b[0m     \u001b[39m# Call the method on lvalues\u001b[39;00m\n\u001b[0;32m    269\u001b[0m     res_values \u001b[39m=\u001b[39m op(lvalues, rvalues)\n",
      "\u001b[1;31mValueError\u001b[0m: ('Lengths must match to compare', (6719,), (1,))"
     ]
    }
   ],
   "source": [
    "# Things I've tried\n",
    "ashley_top_titles = ashley_netflix.drop(ashley_netflix.Title==[\"Them Idiots! Whirled Tour\"], axis=0)\n"
   ]
  },
  {
   "cell_type": "code",
   "execution_count": 171,
   "metadata": {},
   "outputs": [
    {
     "name": "stdout",
     "output_type": "stream",
     "text": [
      "                                                   Profile Name  \\\n",
      "Title                                                             \n",
      "The Munsters                                             Ashley   \n",
      "Stranger Things: Stranger Things 4: Chapter Six...       Ashley   \n",
      "Stranger Things: Stranger Things 4: Chapter Six...       Ashley   \n",
      "Stranger Things: Stranger Things 4: Chapter Six...       Ashley   \n",
      "Stranger Things: Stranger Things 4: Chapter Six...       Ashley   \n",
      "\n",
      "                                                             Start Time  \\\n",
      "Title                                                                     \n",
      "The Munsters                                        2022-10-03 03:07:28   \n",
      "Stranger Things: Stranger Things 4: Chapter Six...  2022-10-03 02:57:22   \n",
      "Stranger Things: Stranger Things 4: Chapter Six...  2022-09-18 02:42:20   \n",
      "Stranger Things: Stranger Things 4: Chapter Six...  2022-09-12 02:04:54   \n",
      "Stranger Things: Stranger Things 4: Chapter Six...  2022-09-11 03:37:02   \n",
      "\n",
      "                                                    Duration  \\\n",
      "Title                                                          \n",
      "The Munsters                                        00:33:42   \n",
      "Stranger Things: Stranger Things 4: Chapter Six...  00:09:19   \n",
      "Stranger Things: Stranger Things 4: Chapter Six...  00:16:13   \n",
      "Stranger Things: Stranger Things 4: Chapter Six...  00:41:43   \n",
      "Stranger Things: Stranger Things 4: Chapter Six...  00:02:44   \n",
      "\n",
      "                                                                  Device Type  \n",
      "Title                                                                          \n",
      "The Munsters                                        iPad Pro 9.7-Inch (Wi-Fi)  \n",
      "Stranger Things: Stranger Things 4: Chapter Six...  iPad Pro 9.7-Inch (Wi-Fi)  \n",
      "Stranger Things: Stranger Things 4: Chapter Six...  iPad Pro 9.7-Inch (Wi-Fi)  \n",
      "Stranger Things: Stranger Things 4: Chapter Six...  iPad Pro 9.7-Inch (Wi-Fi)  \n",
      "Stranger Things: Stranger Things 4: Chapter Six...  iPad Pro 9.7-Inch (Wi-Fi)  \n"
     ]
    }
   ],
   "source": [
    "# Things I've tried\n",
    "\n",
    "ashley_index = ashley_netflix.set_index(\"Title\")\n",
    "\n",
    "ashley_index = ashley_index.drop(\"Them Idiots! Whirled Tour\")\n",
    "\n",
    "print(ashley_index.head())"
   ]
  },
  {
   "cell_type": "code",
   "execution_count": null,
   "metadata": {},
   "outputs": [],
   "source": [
    "# Things I've tried\n",
    "ashley_new_index = ashley_netflix.drop(ashley_netflix.Title, )"
   ]
  },
  {
   "cell_type": "code",
   "execution_count": 176,
   "metadata": {},
   "outputs": [
    {
     "name": "stdout",
     "output_type": "stream",
     "text": [
      "Them Idiots! Whirled Tour                           49\n",
      "NullCompleteVideo                                   43\n",
      "Larry the Cable Guy: Tailgate Party                 33\n",
      "Sherlock: Series 1: A Study in Pink (Episode 1)     28\n",
      "Sherlock: Series 1: The Blind Banker (Episode 2)    19\n",
      "                                                    ..\n",
      "Master of None: Season 1: Hot Ticket (Episode 3)     1\n",
      "Master of None: Season 1: Parents (Episode 2)        1\n",
      "Broadchurch: Season 2: Episode 6                     1\n",
      "Broadchurch: Season 2: Episode 5                     1\n",
      "One Night with the King                              1\n",
      "Name: Title, Length: 4268, dtype: int64\n"
     ]
    }
   ],
   "source": [
    "ashley_top_titles = ashley_netflix.Title.value_counts()\n",
    "\n",
    "print(ashley_top_titles)"
   ]
  },
  {
   "cell_type": "code",
   "execution_count": 190,
   "metadata": {},
   "outputs": [
    {
     "name": "stdout",
     "output_type": "stream",
     "text": [
      "Them Idiots! Whirled Tour\n"
     ]
    }
   ],
   "source": [
    "show_to_remove = ashley_netflix.Title.value_counts().index.tolist()[0]\n",
    "\n",
    "print(show_to_remove)"
   ]
  },
  {
   "cell_type": "code",
   "execution_count": 191,
   "metadata": {},
   "outputs": [
    {
     "name": "stdout",
     "output_type": "stream",
     "text": [
      "Empty DataFrame\n",
      "Columns: [Profile Name, Start Time, Duration, Title, Device Type]\n",
      "Index: []\n"
     ]
    }
   ],
   "source": [
    "them_idiots = ashley_netflix[ashley_netflix.Title == show_to_remove[0]]\n",
    "\n",
    "print(them_idiots)"
   ]
  },
  {
   "cell_type": "code",
   "execution_count": 192,
   "metadata": {},
   "outputs": [
    {
     "data": {
      "text/plain": [
       "str"
      ]
     },
     "execution_count": 192,
     "metadata": {},
     "output_type": "execute_result"
    }
   ],
   "source": [
    "type(show_to_remove)"
   ]
  },
  {
   "cell_type": "code",
   "execution_count": 194,
   "metadata": {},
   "outputs": [
    {
     "data": {
      "text/plain": [
       "Them Idiots! Whirled Tour    49\n",
       "Name: Title, dtype: int64"
      ]
     },
     "execution_count": 194,
     "metadata": {},
     "output_type": "execute_result"
    }
   ],
   "source": [
    "ashley_top_titles.iloc[:1]"
   ]
  },
  {
   "cell_type": "code",
   "execution_count": 211,
   "metadata": {},
   "outputs": [
    {
     "ename": "SyntaxError",
     "evalue": "invalid syntax (1721458047.py, line 1)",
     "output_type": "error",
     "traceback": [
      "\u001b[1;36m  Cell \u001b[1;32mIn [211], line 1\u001b[1;36m\u001b[0m\n\u001b[1;33m    ashley_netflix.iloc[[0:5],[0:5]]\u001b[0m\n\u001b[1;37m                          ^\u001b[0m\n\u001b[1;31mSyntaxError\u001b[0m\u001b[1;31m:\u001b[0m invalid syntax\n"
     ]
    }
   ],
   "source": [
    "ashley_netflix.iloc[[0:5],[0:5]]"
   ]
  },
  {
   "cell_type": "code",
   "execution_count": 209,
   "metadata": {},
   "outputs": [
    {
     "data": {
      "text/html": [
       "<div>\n",
       "<style scoped>\n",
       "    .dataframe tbody tr th:only-of-type {\n",
       "        vertical-align: middle;\n",
       "    }\n",
       "\n",
       "    .dataframe tbody tr th {\n",
       "        vertical-align: top;\n",
       "    }\n",
       "\n",
       "    .dataframe thead th {\n",
       "        text-align: right;\n",
       "    }\n",
       "</style>\n",
       "<table border=\"1\" class=\"dataframe\">\n",
       "  <thead>\n",
       "    <tr style=\"text-align: right;\">\n",
       "      <th></th>\n",
       "      <th>Profile Name</th>\n",
       "      <th>Start Time</th>\n",
       "      <th>Duration</th>\n",
       "      <th>Title</th>\n",
       "      <th>Device Type</th>\n",
       "    </tr>\n",
       "  </thead>\n",
       "  <tbody>\n",
       "    <tr>\n",
       "      <th>0</th>\n",
       "      <td>Ashley</td>\n",
       "      <td>2022-10-03 03:07:28</td>\n",
       "      <td>00:33:42</td>\n",
       "      <td>The Munsters</td>\n",
       "      <td>iPad Pro 9.7-Inch (Wi-Fi)</td>\n",
       "    </tr>\n",
       "    <tr>\n",
       "      <th>1</th>\n",
       "      <td>Ashley</td>\n",
       "      <td>2022-10-03 02:57:22</td>\n",
       "      <td>00:09:19</td>\n",
       "      <td>Stranger Things: Stranger Things 4: Chapter Si...</td>\n",
       "      <td>iPad Pro 9.7-Inch (Wi-Fi)</td>\n",
       "    </tr>\n",
       "    <tr>\n",
       "      <th>2</th>\n",
       "      <td>Ashley</td>\n",
       "      <td>2022-09-18 02:42:20</td>\n",
       "      <td>00:16:13</td>\n",
       "      <td>Stranger Things: Stranger Things 4: Chapter Si...</td>\n",
       "      <td>iPad Pro 9.7-Inch (Wi-Fi)</td>\n",
       "    </tr>\n",
       "    <tr>\n",
       "      <th>3</th>\n",
       "      <td>Ashley</td>\n",
       "      <td>2022-09-12 02:04:54</td>\n",
       "      <td>00:41:43</td>\n",
       "      <td>Stranger Things: Stranger Things 4: Chapter Si...</td>\n",
       "      <td>iPad Pro 9.7-Inch (Wi-Fi)</td>\n",
       "    </tr>\n",
       "    <tr>\n",
       "      <th>4</th>\n",
       "      <td>Ashley</td>\n",
       "      <td>2022-09-11 03:37:02</td>\n",
       "      <td>00:02:44</td>\n",
       "      <td>Stranger Things: Stranger Things 4: Chapter Si...</td>\n",
       "      <td>iPad Pro 9.7-Inch (Wi-Fi)</td>\n",
       "    </tr>\n",
       "  </tbody>\n",
       "</table>\n",
       "</div>"
      ],
      "text/plain": [
       "  Profile Name           Start Time  Duration  \\\n",
       "0       Ashley  2022-10-03 03:07:28  00:33:42   \n",
       "1       Ashley  2022-10-03 02:57:22  00:09:19   \n",
       "2       Ashley  2022-09-18 02:42:20  00:16:13   \n",
       "3       Ashley  2022-09-12 02:04:54  00:41:43   \n",
       "4       Ashley  2022-09-11 03:37:02  00:02:44   \n",
       "\n",
       "                                               Title  \\\n",
       "0                                       The Munsters   \n",
       "1  Stranger Things: Stranger Things 4: Chapter Si...   \n",
       "2  Stranger Things: Stranger Things 4: Chapter Si...   \n",
       "3  Stranger Things: Stranger Things 4: Chapter Si...   \n",
       "4  Stranger Things: Stranger Things 4: Chapter Si...   \n",
       "\n",
       "                 Device Type  \n",
       "0  iPad Pro 9.7-Inch (Wi-Fi)  \n",
       "1  iPad Pro 9.7-Inch (Wi-Fi)  \n",
       "2  iPad Pro 9.7-Inch (Wi-Fi)  \n",
       "3  iPad Pro 9.7-Inch (Wi-Fi)  \n",
       "4  iPad Pro 9.7-Inch (Wi-Fi)  "
      ]
     },
     "execution_count": 209,
     "metadata": {},
     "output_type": "execute_result"
    }
   ],
   "source": [
    "ashley_netflix.iloc[:5]"
   ]
  }
 ],
 "metadata": {
  "kernelspec": {
   "display_name": "Python 3.10.2 64-bit",
   "language": "python",
   "name": "python3"
  },
  "language_info": {
   "codemirror_mode": {
    "name": "ipython",
    "version": 3
   },
   "file_extension": ".py",
   "mimetype": "text/x-python",
   "name": "python",
   "nbconvert_exporter": "python",
   "pygments_lexer": "ipython3",
   "version": "3.10.2"
  },
  "orig_nbformat": 4,
  "vscode": {
   "interpreter": {
    "hash": "369f2c481f4da34e4445cda3fffd2e751bd1c4d706f27375911949ba6bb62e1c"
   }
  }
 },
 "nbformat": 4,
 "nbformat_minor": 2
}
