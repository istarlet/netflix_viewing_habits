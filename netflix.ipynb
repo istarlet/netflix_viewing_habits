{
 "cells": [
  {
   "cell_type": "markdown",
   "metadata": {},
   "source": [
    "## Netflix Streaming"
   ]
  },
  {
   "cell_type": "code",
   "execution_count": 10,
   "metadata": {},
   "outputs": [],
   "source": [
    "# Import needed libraries\n",
    "import pandas as pd"
   ]
  },
  {
   "cell_type": "code",
   "execution_count": 11,
   "metadata": {},
   "outputs": [],
   "source": [
    "# Read the CSV file in\n",
    "netflix = pd.read_csv(\"datasets/AshleyViewingActivity.csv\")"
   ]
  },
  {
   "cell_type": "code",
   "execution_count": 12,
   "metadata": {},
   "outputs": [
    {
     "data": {
      "text/html": [
       "<div>\n",
       "<style scoped>\n",
       "    .dataframe tbody tr th:only-of-type {\n",
       "        vertical-align: middle;\n",
       "    }\n",
       "\n",
       "    .dataframe tbody tr th {\n",
       "        vertical-align: top;\n",
       "    }\n",
       "\n",
       "    .dataframe thead th {\n",
       "        text-align: right;\n",
       "    }\n",
       "</style>\n",
       "<table border=\"1\" class=\"dataframe\">\n",
       "  <thead>\n",
       "    <tr style=\"text-align: right;\">\n",
       "      <th></th>\n",
       "      <th>Profile Name</th>\n",
       "      <th>Start Time</th>\n",
       "      <th>Duration</th>\n",
       "      <th>Attributes</th>\n",
       "      <th>Title</th>\n",
       "      <th>Supplemental Video Type</th>\n",
       "      <th>Device Type</th>\n",
       "      <th>Bookmark</th>\n",
       "      <th>Latest Bookmark</th>\n",
       "      <th>Country</th>\n",
       "    </tr>\n",
       "  </thead>\n",
       "  <tbody>\n",
       "    <tr>\n",
       "      <th>0</th>\n",
       "      <td>Ashley</td>\n",
       "      <td>2022-10-03 03:07:28</td>\n",
       "      <td>00:33:42</td>\n",
       "      <td>NaN</td>\n",
       "      <td>The Munsters</td>\n",
       "      <td>NaN</td>\n",
       "      <td>iPad Pro 9.7-Inch (Wi-Fi)</td>\n",
       "      <td>00:33:43</td>\n",
       "      <td>00:33:43</td>\n",
       "      <td>US (United States)</td>\n",
       "    </tr>\n",
       "    <tr>\n",
       "      <th>1</th>\n",
       "      <td>Ashley</td>\n",
       "      <td>2022-10-03 02:57:22</td>\n",
       "      <td>00:09:19</td>\n",
       "      <td>NaN</td>\n",
       "      <td>Stranger Things: Stranger Things 4: Chapter Si...</td>\n",
       "      <td>NaN</td>\n",
       "      <td>iPad Pro 9.7-Inch (Wi-Fi)</td>\n",
       "      <td>01:10:20</td>\n",
       "      <td>01:10:20</td>\n",
       "      <td>US (United States)</td>\n",
       "    </tr>\n",
       "    <tr>\n",
       "      <th>2</th>\n",
       "      <td>Ashley</td>\n",
       "      <td>2022-09-18 02:42:20</td>\n",
       "      <td>00:16:13</td>\n",
       "      <td>NaN</td>\n",
       "      <td>Stranger Things: Stranger Things 4: Chapter Si...</td>\n",
       "      <td>NaN</td>\n",
       "      <td>iPad Pro 9.7-Inch (Wi-Fi)</td>\n",
       "      <td>01:01:01</td>\n",
       "      <td>Not latest view</td>\n",
       "      <td>US (United States)</td>\n",
       "    </tr>\n",
       "    <tr>\n",
       "      <th>3</th>\n",
       "      <td>Ashley</td>\n",
       "      <td>2022-09-12 02:04:54</td>\n",
       "      <td>00:41:43</td>\n",
       "      <td>NaN</td>\n",
       "      <td>Stranger Things: Stranger Things 4: Chapter Si...</td>\n",
       "      <td>NaN</td>\n",
       "      <td>iPad Pro 9.7-Inch (Wi-Fi)</td>\n",
       "      <td>00:44:37</td>\n",
       "      <td>Not latest view</td>\n",
       "      <td>US (United States)</td>\n",
       "    </tr>\n",
       "    <tr>\n",
       "      <th>4</th>\n",
       "      <td>Ashley</td>\n",
       "      <td>2022-09-11 03:37:02</td>\n",
       "      <td>00:02:44</td>\n",
       "      <td>NaN</td>\n",
       "      <td>Stranger Things: Stranger Things 4: Chapter Si...</td>\n",
       "      <td>NaN</td>\n",
       "      <td>iPad Pro 9.7-Inch (Wi-Fi)</td>\n",
       "      <td>00:02:53</td>\n",
       "      <td>Not latest view</td>\n",
       "      <td>US (United States)</td>\n",
       "    </tr>\n",
       "  </tbody>\n",
       "</table>\n",
       "</div>"
      ],
      "text/plain": [
       "  Profile Name           Start Time  Duration Attributes  \\\n",
       "0       Ashley  2022-10-03 03:07:28  00:33:42        NaN   \n",
       "1       Ashley  2022-10-03 02:57:22  00:09:19        NaN   \n",
       "2       Ashley  2022-09-18 02:42:20  00:16:13        NaN   \n",
       "3       Ashley  2022-09-12 02:04:54  00:41:43        NaN   \n",
       "4       Ashley  2022-09-11 03:37:02  00:02:44        NaN   \n",
       "\n",
       "                                               Title Supplemental Video Type  \\\n",
       "0                                       The Munsters                     NaN   \n",
       "1  Stranger Things: Stranger Things 4: Chapter Si...                     NaN   \n",
       "2  Stranger Things: Stranger Things 4: Chapter Si...                     NaN   \n",
       "3  Stranger Things: Stranger Things 4: Chapter Si...                     NaN   \n",
       "4  Stranger Things: Stranger Things 4: Chapter Si...                     NaN   \n",
       "\n",
       "                 Device Type  Bookmark  Latest Bookmark             Country  \n",
       "0  iPad Pro 9.7-Inch (Wi-Fi)  00:33:43         00:33:43  US (United States)  \n",
       "1  iPad Pro 9.7-Inch (Wi-Fi)  01:10:20         01:10:20  US (United States)  \n",
       "2  iPad Pro 9.7-Inch (Wi-Fi)  01:01:01  Not latest view  US (United States)  \n",
       "3  iPad Pro 9.7-Inch (Wi-Fi)  00:44:37  Not latest view  US (United States)  \n",
       "4  iPad Pro 9.7-Inch (Wi-Fi)  00:02:53  Not latest view  US (United States)  "
      ]
     },
     "execution_count": 12,
     "metadata": {},
     "output_type": "execute_result"
    }
   ],
   "source": [
    "# View the first five rows of data\n",
    "netflix.head()"
   ]
  },
  {
   "cell_type": "markdown",
   "metadata": {},
   "source": [
    "### 2. Manipulate and Clean the Data"
   ]
  },
  {
   "cell_type": "code",
   "execution_count": 13,
   "metadata": {},
   "outputs": [
    {
     "data": {
      "text/plain": [
       "Index(['Profile Name', 'Start Time', 'Duration', 'Attributes', 'Title',\n",
       "       'Supplemental Video Type', 'Device Type', 'Bookmark', 'Latest Bookmark',\n",
       "       'Country'],\n",
       "      dtype='object')"
      ]
     },
     "execution_count": 13,
     "metadata": {},
     "output_type": "execute_result"
    }
   ],
   "source": [
    "# Get a list of all the column names\n",
    "netflix.columns"
   ]
  },
  {
   "cell_type": "code",
   "execution_count": 14,
   "metadata": {},
   "outputs": [
    {
     "data": {
      "text/html": [
       "<div>\n",
       "<style scoped>\n",
       "    .dataframe tbody tr th:only-of-type {\n",
       "        vertical-align: middle;\n",
       "    }\n",
       "\n",
       "    .dataframe tbody tr th {\n",
       "        vertical-align: top;\n",
       "    }\n",
       "\n",
       "    .dataframe thead th {\n",
       "        text-align: right;\n",
       "    }\n",
       "</style>\n",
       "<table border=\"1\" class=\"dataframe\">\n",
       "  <thead>\n",
       "    <tr style=\"text-align: right;\">\n",
       "      <th></th>\n",
       "      <th>Start Time</th>\n",
       "      <th>Title</th>\n",
       "    </tr>\n",
       "  </thead>\n",
       "  <tbody>\n",
       "    <tr>\n",
       "      <th>0</th>\n",
       "      <td>2022-10-03 03:07:28</td>\n",
       "      <td>The Munsters</td>\n",
       "    </tr>\n",
       "    <tr>\n",
       "      <th>1</th>\n",
       "      <td>2022-10-03 02:57:22</td>\n",
       "      <td>Stranger Things: Stranger Things 4: Chapter Si...</td>\n",
       "    </tr>\n",
       "    <tr>\n",
       "      <th>2</th>\n",
       "      <td>2022-09-18 02:42:20</td>\n",
       "      <td>Stranger Things: Stranger Things 4: Chapter Si...</td>\n",
       "    </tr>\n",
       "    <tr>\n",
       "      <th>3</th>\n",
       "      <td>2022-09-12 02:04:54</td>\n",
       "      <td>Stranger Things: Stranger Things 4: Chapter Si...</td>\n",
       "    </tr>\n",
       "    <tr>\n",
       "      <th>4</th>\n",
       "      <td>2022-09-11 03:37:02</td>\n",
       "      <td>Stranger Things: Stranger Things 4: Chapter Si...</td>\n",
       "    </tr>\n",
       "  </tbody>\n",
       "</table>\n",
       "</div>"
      ],
      "text/plain": [
       "            Start Time                                              Title\n",
       "0  2022-10-03 03:07:28                                       The Munsters\n",
       "1  2022-10-03 02:57:22  Stranger Things: Stranger Things 4: Chapter Si...\n",
       "2  2022-09-18 02:42:20  Stranger Things: Stranger Things 4: Chapter Si...\n",
       "3  2022-09-12 02:04:54  Stranger Things: Stranger Things 4: Chapter Si...\n",
       "4  2022-09-11 03:37:02  Stranger Things: Stranger Things 4: Chapter Si..."
      ]
     },
     "execution_count": 14,
     "metadata": {},
     "output_type": "execute_result"
    }
   ],
   "source": [
    "# Drop columns that aren't needed\n",
    "netflix = netflix.drop(columns=[\"Profile Name\", \"Attributes\", \"Duration\", \"Supplemental Video Type\", \"Bookmark\", \"Latest Bookmark\", \"Country\", \"Device Type\"], axis=1)\n",
    "\n",
    "# View updated dataframe to make sure that columns were dropped\n",
    "netflix.head()"
   ]
  },
  {
   "cell_type": "code",
   "execution_count": 15,
   "metadata": {},
   "outputs": [
    {
     "data": {
      "text/html": [
       "<div>\n",
       "<style scoped>\n",
       "    .dataframe tbody tr th:only-of-type {\n",
       "        vertical-align: middle;\n",
       "    }\n",
       "\n",
       "    .dataframe tbody tr th {\n",
       "        vertical-align: top;\n",
       "    }\n",
       "\n",
       "    .dataframe thead th {\n",
       "        text-align: right;\n",
       "    }\n",
       "</style>\n",
       "<table border=\"1\" class=\"dataframe\">\n",
       "  <thead>\n",
       "    <tr style=\"text-align: right;\">\n",
       "      <th></th>\n",
       "      <th>Start Time</th>\n",
       "      <th>Title</th>\n",
       "      <th>Streaming Service</th>\n",
       "    </tr>\n",
       "  </thead>\n",
       "  <tbody>\n",
       "    <tr>\n",
       "      <th>0</th>\n",
       "      <td>2022-10-03 03:07:28</td>\n",
       "      <td>The Munsters</td>\n",
       "      <td>Netflix</td>\n",
       "    </tr>\n",
       "    <tr>\n",
       "      <th>1</th>\n",
       "      <td>2022-10-03 02:57:22</td>\n",
       "      <td>Stranger Things: Stranger Things 4: Chapter Si...</td>\n",
       "      <td>Netflix</td>\n",
       "    </tr>\n",
       "    <tr>\n",
       "      <th>2</th>\n",
       "      <td>2022-09-18 02:42:20</td>\n",
       "      <td>Stranger Things: Stranger Things 4: Chapter Si...</td>\n",
       "      <td>Netflix</td>\n",
       "    </tr>\n",
       "    <tr>\n",
       "      <th>3</th>\n",
       "      <td>2022-09-12 02:04:54</td>\n",
       "      <td>Stranger Things: Stranger Things 4: Chapter Si...</td>\n",
       "      <td>Netflix</td>\n",
       "    </tr>\n",
       "    <tr>\n",
       "      <th>4</th>\n",
       "      <td>2022-09-11 03:37:02</td>\n",
       "      <td>Stranger Things: Stranger Things 4: Chapter Si...</td>\n",
       "      <td>Netflix</td>\n",
       "    </tr>\n",
       "  </tbody>\n",
       "</table>\n",
       "</div>"
      ],
      "text/plain": [
       "            Start Time                                              Title  \\\n",
       "0  2022-10-03 03:07:28                                       The Munsters   \n",
       "1  2022-10-03 02:57:22  Stranger Things: Stranger Things 4: Chapter Si...   \n",
       "2  2022-09-18 02:42:20  Stranger Things: Stranger Things 4: Chapter Si...   \n",
       "3  2022-09-12 02:04:54  Stranger Things: Stranger Things 4: Chapter Si...   \n",
       "4  2022-09-11 03:37:02  Stranger Things: Stranger Things 4: Chapter Si...   \n",
       "\n",
       "  Streaming Service  \n",
       "0           Netflix  \n",
       "1           Netflix  \n",
       "2           Netflix  \n",
       "3           Netflix  \n",
       "4           Netflix  "
      ]
     },
     "execution_count": 15,
     "metadata": {},
     "output_type": "execute_result"
    }
   ],
   "source": [
    "# Add a new column \"Streaming Service\" and fill with \"Netflix\" so once combined I will know which service this data is from\n",
    "netflix[\"Streaming Service\"] = \"Netflix\"\n",
    "\n",
    "# View the first five rows of data to ensure that new column was added correctly\n",
    "netflix.head()"
   ]
  },
  {
   "cell_type": "code",
   "execution_count": 16,
   "metadata": {},
   "outputs": [
    {
     "data": {
      "text/html": [
       "<div>\n",
       "<style scoped>\n",
       "    .dataframe tbody tr th:only-of-type {\n",
       "        vertical-align: middle;\n",
       "    }\n",
       "\n",
       "    .dataframe tbody tr th {\n",
       "        vertical-align: top;\n",
       "    }\n",
       "\n",
       "    .dataframe thead th {\n",
       "        text-align: right;\n",
       "    }\n",
       "</style>\n",
       "<table border=\"1\" class=\"dataframe\">\n",
       "  <thead>\n",
       "    <tr style=\"text-align: right;\">\n",
       "      <th></th>\n",
       "      <th>Date Watched</th>\n",
       "      <th>Title</th>\n",
       "      <th>Streaming Service</th>\n",
       "    </tr>\n",
       "  </thead>\n",
       "  <tbody>\n",
       "    <tr>\n",
       "      <th>0</th>\n",
       "      <td>2022-10-03 03:07:28</td>\n",
       "      <td>The Munsters</td>\n",
       "      <td>Netflix</td>\n",
       "    </tr>\n",
       "    <tr>\n",
       "      <th>1</th>\n",
       "      <td>2022-10-03 02:57:22</td>\n",
       "      <td>Stranger Things: Stranger Things 4: Chapter Si...</td>\n",
       "      <td>Netflix</td>\n",
       "    </tr>\n",
       "    <tr>\n",
       "      <th>2</th>\n",
       "      <td>2022-09-18 02:42:20</td>\n",
       "      <td>Stranger Things: Stranger Things 4: Chapter Si...</td>\n",
       "      <td>Netflix</td>\n",
       "    </tr>\n",
       "    <tr>\n",
       "      <th>3</th>\n",
       "      <td>2022-09-12 02:04:54</td>\n",
       "      <td>Stranger Things: Stranger Things 4: Chapter Si...</td>\n",
       "      <td>Netflix</td>\n",
       "    </tr>\n",
       "    <tr>\n",
       "      <th>4</th>\n",
       "      <td>2022-09-11 03:37:02</td>\n",
       "      <td>Stranger Things: Stranger Things 4: Chapter Si...</td>\n",
       "      <td>Netflix</td>\n",
       "    </tr>\n",
       "  </tbody>\n",
       "</table>\n",
       "</div>"
      ],
      "text/plain": [
       "          Date Watched                                              Title  \\\n",
       "0  2022-10-03 03:07:28                                       The Munsters   \n",
       "1  2022-10-03 02:57:22  Stranger Things: Stranger Things 4: Chapter Si...   \n",
       "2  2022-09-18 02:42:20  Stranger Things: Stranger Things 4: Chapter Si...   \n",
       "3  2022-09-12 02:04:54  Stranger Things: Stranger Things 4: Chapter Si...   \n",
       "4  2022-09-11 03:37:02  Stranger Things: Stranger Things 4: Chapter Si...   \n",
       "\n",
       "  Streaming Service  \n",
       "0           Netflix  \n",
       "1           Netflix  \n",
       "2           Netflix  \n",
       "3           Netflix  \n",
       "4           Netflix  "
      ]
     },
     "execution_count": 16,
     "metadata": {},
     "output_type": "execute_result"
    }
   ],
   "source": [
    "# Fix the column names in the dataframe\n",
    "fixed_columns = {\n",
    "    \"Start Time\":\"Date Watched\"\n",
    "}\n",
    "\n",
    "# Check that the column names are displaying correctly\n",
    "netflix.rename(columns=fixed_columns, inplace=True)\n",
    "netflix.head()"
   ]
  },
  {
   "cell_type": "code",
   "execution_count": 17,
   "metadata": {},
   "outputs": [
    {
     "name": "stdout",
     "output_type": "stream",
     "text": [
      "<class 'pandas.core.frame.DataFrame'>\n",
      "RangeIndex: 25052 entries, 0 to 25051\n",
      "Data columns (total 3 columns):\n",
      " #   Column             Non-Null Count  Dtype \n",
      "---  ------             --------------  ----- \n",
      " 0   Date Watched       25052 non-null  object\n",
      " 1   Title              25052 non-null  object\n",
      " 2   Streaming Service  25052 non-null  object\n",
      "dtypes: object(3)\n",
      "memory usage: 587.3+ KB\n"
     ]
    }
   ],
   "source": [
    "# Get info about the dataframe\n",
    "netflix.info()"
   ]
  },
  {
   "cell_type": "code",
   "execution_count": 18,
   "metadata": {},
   "outputs": [
    {
     "name": "stdout",
     "output_type": "stream",
     "text": [
      "Stored 'netflix_cleaned' (DataFrame)\n"
     ]
    }
   ],
   "source": [
    "# Store the cleaned dataframe as a variable to use in the main notebook\n",
    "netflix_cleaned = netflix\n",
    "%store netflix_cleaned"
   ]
  }
 ],
 "metadata": {
  "kernelspec": {
   "display_name": "Python 3.10.2 64-bit",
   "language": "python",
   "name": "python3"
  },
  "language_info": {
   "codemirror_mode": {
    "name": "ipython",
    "version": 3
   },
   "file_extension": ".py",
   "mimetype": "text/x-python",
   "name": "python",
   "nbconvert_exporter": "python",
   "pygments_lexer": "ipython3",
   "version": "3.10.2"
  },
  "orig_nbformat": 4,
  "vscode": {
   "interpreter": {
    "hash": "369f2c481f4da34e4445cda3fffd2e751bd1c4d706f27375911949ba6bb62e1c"
   }
  }
 },
 "nbformat": 4,
 "nbformat_minor": 2
}
